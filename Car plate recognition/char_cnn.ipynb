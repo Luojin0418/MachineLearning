{
 "cells": [
  {
   "cell_type": "markdown",
   "metadata": {},
   "source": [
    "# Import some packages\n",
    "\n",
    "You should load packages you may need in this project first"
   ]
  },
  {
   "cell_type": "code",
   "execution_count": 2,
   "metadata": {
    "scrolled": true
   },
   "outputs": [
    {
     "name": "stderr",
     "output_type": "stream",
     "text": [
      "Using TensorFlow backend.\n",
      "E:\\Program_Files\\miniconda\\envs\\Mlearn\\lib\\site-packages\\tensorflow\\python\\framework\\dtypes.py:526: FutureWarning: Passing (type, 1) or '1type' as a synonym of type is deprecated; in a future version of numpy, it will be understood as (type, (1,)) / '(1,)type'.\n",
      "  _np_qint8 = np.dtype([(\"qint8\", np.int8, 1)])\n",
      "E:\\Program_Files\\miniconda\\envs\\Mlearn\\lib\\site-packages\\tensorflow\\python\\framework\\dtypes.py:527: FutureWarning: Passing (type, 1) or '1type' as a synonym of type is deprecated; in a future version of numpy, it will be understood as (type, (1,)) / '(1,)type'.\n",
      "  _np_quint8 = np.dtype([(\"quint8\", np.uint8, 1)])\n",
      "E:\\Program_Files\\miniconda\\envs\\Mlearn\\lib\\site-packages\\tensorflow\\python\\framework\\dtypes.py:528: FutureWarning: Passing (type, 1) or '1type' as a synonym of type is deprecated; in a future version of numpy, it will be understood as (type, (1,)) / '(1,)type'.\n",
      "  _np_qint16 = np.dtype([(\"qint16\", np.int16, 1)])\n",
      "E:\\Program_Files\\miniconda\\envs\\Mlearn\\lib\\site-packages\\tensorflow\\python\\framework\\dtypes.py:529: FutureWarning: Passing (type, 1) or '1type' as a synonym of type is deprecated; in a future version of numpy, it will be understood as (type, (1,)) / '(1,)type'.\n",
      "  _np_quint16 = np.dtype([(\"quint16\", np.uint16, 1)])\n",
      "E:\\Program_Files\\miniconda\\envs\\Mlearn\\lib\\site-packages\\tensorflow\\python\\framework\\dtypes.py:530: FutureWarning: Passing (type, 1) or '1type' as a synonym of type is deprecated; in a future version of numpy, it will be understood as (type, (1,)) / '(1,)type'.\n",
      "  _np_qint32 = np.dtype([(\"qint32\", np.int32, 1)])\n",
      "E:\\Program_Files\\miniconda\\envs\\Mlearn\\lib\\site-packages\\tensorflow\\python\\framework\\dtypes.py:535: FutureWarning: Passing (type, 1) or '1type' as a synonym of type is deprecated; in a future version of numpy, it will be understood as (type, (1,)) / '(1,)type'.\n",
      "  np_resource = np.dtype([(\"resource\", np.ubyte, 1)])\n"
     ]
    }
   ],
   "source": [
    "import skimage.io\n",
    "import skimage.color\n",
    "import skimage.transform\n",
    "import matplotlib.pyplot as plt\n",
    "%matplotlib inline\n",
    "\n",
    "import numpy as np\n",
    "import os\n",
    "import random\n",
    "\n",
    "import keras\n",
    "from keras.datasets import mnist\n",
    "from keras.models import Sequential\n",
    "from keras.layers import Dense, Dropout, Flatten\n",
    "from keras.layers import Conv2D, MaxPooling2D\n",
    "from keras import backend as K"
   ]
  },
  {
   "cell_type": "markdown",
   "metadata": {},
   "source": [
    "# Load character data from the dataset subfolder\n"
   ]
  },
  {
   "cell_type": "code",
   "execution_count": 4,
   "metadata": {
    "scrolled": true
   },
   "outputs": [],
   "source": [
    "#skimage.io.imread()\n",
    "#skimage.color.rgb2gray()\n",
    "\n",
    "DATASET_DIR = './dataset'\n",
    "nums = os.listdir(DATASET_DIR)\n",
    "load = []\n",
    "data = []\n",
    "for num in nums:\n",
    "    imgs = os.listdir(DATASET_DIR+'/'+num)\n",
    "    for i in imgs:\n",
    "        img = skimage.io.imread(DATASET_DIR+'/'+num+'/'+i)\n",
    "        img = skimage.color.rgb2gray(img)\n",
    "        load.append(DATASET_DIR+'/'+num+'/'+i)\n",
    "        data.append({\n",
    "            'x': img,\n",
    "            'y': num\n",
    "        })\n",
    "        \n",
    "random.shuffle(data)"
   ]
  },
  {
   "cell_type": "code",
   "execution_count": 5,
   "metadata": {
    "scrolled": false
   },
   "outputs": [
    {
     "name": "stdout",
     "output_type": "stream",
     "text": [
      "2\n"
     ]
    },
    {
     "data": {
      "text/plain": [
       "<matplotlib.image.AxesImage at 0x242c6857dd8>"
      ]
     },
     "execution_count": 5,
     "metadata": {},
     "output_type": "execute_result"
    },
    {
     "data": {
      "image/png": "[encoded data removed]",
      "text/plain": [
       "<Figure size 432x288 with 1 Axes>"
      ]
     },
     "metadata": {
      "needs_background": "light"
     },
     "output_type": "display_data"
    }
   ],
   "source": [
    "print(data[0]['y'])\n",
    "skimage.io.imshow(data[0]['x'])"
   ]
  },
  {
   "cell_type": "markdown",
   "metadata": {},
   "source": [
    "# create train data set and test data set \n",
    "Using 80/20 rule, 80 precent for trainning, and 20 percent for testing."
   ]
  },
  {
   "cell_type": "code",
   "execution_count": 6,
   "metadata": {},
   "outputs": [],
   "source": [
    "#x_train =\n",
    "#y_train =\n",
    "\n",
    "#x_test =\n",
    "#y_test =\n",
    "\n",
    "X = [d['x'] for d in data]\n",
    "y = [d['y'] for d in data]\n",
    "\n",
    "ys = list(np.unique(y))\n",
    "y = [ys.index(v) for v in y]\n",
    "\n",
    "x_train = np.array(X[:int(len(X)*0.8)])\n",
    "y_train = np.array(y[:int(len(X)*0.8)])\n",
    "\n",
    "x_test = np.array(X[int(len(X)*0.8):])\n",
    "y_test = np.array(y[int(len(X)*0.8):])"
   ]
  },
  {
   "cell_type": "markdown",
   "metadata": {},
   "source": [
    "# Examming and Understand data set for trainning\n"
   ]
  },
  {
   "cell_type": "code",
   "execution_count": 7,
   "metadata": {
    "scrolled": true
   },
   "outputs": [
    {
     "name": "stdout",
     "output_type": "stream",
     "text": [
      "[[  0.   1.   0.   1.   0.   2.  29.  52. 255. 254. 254. 255.  51.  28.\n",
      "    1.   0.   0.   0.   0.   0.]\n",
      " [  0.   1.   1.   0.   0.  32. 213. 254. 253. 255. 255. 254. 255. 213.\n",
      "   31.   1.   0.   0.   0.   0.]\n",
      " [  3.   0.   0.   3.   0.  51. 255. 255. 255. 254. 255. 255. 255. 255.\n",
      "   49.   1.   0.   0.   0.   0.]\n",
      " [  0.   1.   0.   3.   0. 255. 255. 253. 214.  30.   0.  93. 254. 255.\n",
      "  254.   0.   0.   0.   0.   0.]\n",
      " [  1.   2.   5.   0.   0. 250. 255. 255.  32.   0.   0.   0. 253. 255.\n",
      "  255.   2.   0.   0.   0.   0.]\n",
      " [  0.   0.   0.   0.   3. 209. 203.   0.   0.   0.   4.   0. 255. 255.\n",
      "  253.   0.   0.   0.   0.   0.]\n",
      " [  1.   2.   0.   0.   1.   0.   0.   3.   0.   6.   0.   0. 255. 254.\n",
      "  255.   0.   0.   0.   0.   0.]\n",
      " [  0.   0.   1.   1.   0.   1.   0.   1.   0.   0.   1. 155. 253. 255.\n",
      "  253.   0.   0.   0.   0.   0.]\n",
      " [  1.   0.   0.   2.   0.   0.   2.   0.   0.   2.  48. 255. 255. 211.\n",
      "   30.   1.   0.   0.   0.   0.]\n",
      " [  0.   2.   2.   0.   2.   0.   1.   0.   0.   0. 219. 254. 254. 156.\n",
      "    0.   0.   0.   0.   0.   0.]\n",
      " [  2.   0.   0.   3.   0.   2.   0.   4.   0. 206. 254. 252. 255.   0.\n",
      "    0.   3.   0.   0.   0.   0.]\n",
      " [  0.   0.   3.   0.   2.   0.   0.   1.  65. 237. 253. 255. 101.   0.\n",
      "    0.   0.   0.   0.   0.   0.]\n",
      " [  2.   0.   0.   0.   0.   0.   1.   1. 255. 250. 255. 101.   0.   1.\n",
      "    2.   0.   0.   0.   0.   0.]\n",
      " [  0.   0.   1.   1.   0.   3.   1.  99. 255. 253. 238.  61.   0.   0.\n",
      "    0.   4.   0.   0.   0.   0.]\n",
      " [  0.   4.   0.   0.   3.   0. 122. 255. 255. 255.  41.   1.   0.   3.\n",
      "    0.   0.   0.   0.   0.   0.]\n",
      " [  0.   0.   2.   0.   0.  11. 175. 254. 255.  52.   0.   1.   0.   0.\n",
      "    2.   0.   0.   0.   0.   0.]\n",
      " [  0.   1.   2.   0.   2. 172. 255. 254. 254.  50.   0.   0.   0.   0.\n",
      "    1.   0.   0.   0.   0.   0.]\n",
      " [  1.   0.   0.   1.   0. 254. 255. 255. 255.  52.   0. 153. 255. 253.\n",
      "   53.   0.   0.   0.   0.   0.]\n",
      " [  1.   0.   0.   2.   2. 254. 255. 255. 255. 255. 255. 254. 248. 255.\n",
      "  252.   2.   0.   0.   0.   0.]\n",
      " [  0.   0.   1.   0.   0. 253. 253. 255. 255. 251. 255. 255. 255. 255.\n",
      "   92.   0.   0.   0.   0.   0.]]\n",
      "[ 2  8 25 ... 15  9  1]\n",
      "12920\n"
     ]
    }
   ],
   "source": [
    "# you may print out some infomation about train data set \n",
    "print(x_train[0])\n",
    "print(y_train)\n",
    "print(len(y_train))"
   ]
  },
  {
   "cell_type": "markdown",
   "metadata": {},
   "source": [
    "# Decide a few parameters for trainning\n",
    "\n",
    "such as batch size, epochs, image size in rows and colomns, etc."
   ]
  },
  {
   "cell_type": "code",
   "execution_count": 8,
   "metadata": {},
   "outputs": [],
   "source": [
    "#batch_size =\n",
    "#num_classes =\n",
    "#epochs =  \n",
    "\n",
    "## input image dimensions\n",
    "#img_rows, img_cols =\n",
    "\n",
    "batch_size = 128\n",
    "num_classes = len(nums)\n",
    "epochs = 10\n",
    "\n",
    "# input image dimensions\n",
    "img_rows, img_cols = 20, 20"
   ]
  },
  {
   "cell_type": "markdown",
   "metadata": {},
   "source": [
    "# Data normalization"
   ]
  },
  {
   "cell_type": "code",
   "execution_count": 9,
   "metadata": {},
   "outputs": [],
   "source": [
    "#keras.utils.to_categorical()\n",
    "y_train2 = keras.utils.to_categorical(y_train, num_classes)\n",
    "y_test2 = keras.utils.to_categorical(y_test, num_classes)"
   ]
  },
  {
   "cell_type": "markdown",
   "metadata": {},
   "source": [
    "# Create a CNN model for character recognition\n",
    "\n",
    "This is an important part of this project. You have to create a cnn model using tensorflow and keras to train the data.\n"
   ]
  },
  {
   "cell_type": "code",
   "execution_count": 10,
   "metadata": {},
   "outputs": [],
   "source": [
    "#You can refer to the LeNet on the project 5\n"
   ]
  },
  {
   "cell_type": "markdown",
   "metadata": {},
   "source": [
    "# Compile the model"
   ]
  },
  {
   "cell_type": "code",
   "execution_count": null,
   "metadata": {},
   "outputs": [],
   "source": [
    "#model.compile()\n",
    "#model.summary()"
   ]
  },
  {
   "cell_type": "markdown",
   "metadata": {},
   "source": [
    "# Train your model\n"
   ]
  },
  {
   "cell_type": "code",
   "execution_count": null,
   "metadata": {},
   "outputs": [],
   "source": [
    "#model.fit()"
   ]
  },
  {
   "cell_type": "markdown",
   "metadata": {},
   "source": [
    "# Visualize training results"
   ]
  },
  {
   "cell_type": "code",
   "execution_count": null,
   "metadata": {},
   "outputs": [],
   "source": [
    "#plt.figure(figsize=(8, 8))\n",
    "#plt.subplot(1, 2, 1)\n",
    "#plt.plot(epochs_range, acc, label='Training Accuracy')\n",
    "#plt.plot(epochs_range, val_acc, label='Validation Accuracy')\n",
    "#plt.legend(loc='lower right')\n",
    "#plt.title('Training and Validation Accuracy')\n",
    "\n",
    "#plt.subplot(1, 2, 2)\n",
    "#plt.plot(epochs_range, loss, label='Training Loss')\n",
    "#plt.plot(epochs_range, val_loss, label='Validation Loss')\n",
    "#plt.legend(loc='upper right')\n",
    "#plt.title('Training and Validation Loss')\n",
    "#plt.show()"
   ]
  },
  {
   "cell_type": "markdown",
   "metadata": {},
   "source": [
    "# Model Evaluation \n",
    "\n",
    "Evaluate your model with test dataset.\n",
    "\n",
    "make sure your model accuracy should be more than 99 percent. Otherwise, you have to go back to fine tune your model with whatever methods you have learned to improve its accuracy. You have to handle over-fitting or under-fitting problem you may encounter."
   ]
  },
  {
   "cell_type": "code",
   "execution_count": null,
   "metadata": {
    "scrolled": false
   },
   "outputs": [],
   "source": [
    "#score = model.evaluate(xxxxxxx)\n",
    "#print('Test loss:', score[0])\n",
    "#print('Test accuracy:', score[1])"
   ]
  },
  {
   "cell_type": "markdown",
   "metadata": {},
   "source": [
    "# Save your model weights\n",
    "\n",
    "You should save your model for car plate recognition purpose later.\n"
   ]
  },
  {
   "cell_type": "code",
   "execution_count": null,
   "metadata": {},
   "outputs": [],
   "source": [
    "model.save_weights('char_cnn.h5')"
   ]
  }
 ],
 "metadata": {
  "kernelspec": {
   "display_name": "Python: Mlearn",
   "language": "python",
   "name": "mlearn"
  },
  "language_info": {
   "codemirror_mode": {
    "name": "ipython",
    "version": 3
   },
   "file_extension": ".py",
   "mimetype": "text/x-python",
   "name": "python",
   "nbconvert_exporter": "python",
   "pygments_lexer": "ipython3",
   "version": "3.5.5"
  }
 },
 "nbformat": 4,
 "nbformat_minor": 2
}
