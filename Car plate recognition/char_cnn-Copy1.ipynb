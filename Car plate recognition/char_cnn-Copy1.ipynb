{
 "cells": [
  {
   "cell_type": "markdown",
   "metadata": {},
   "source": [
    "# Import some packages\n",
    "\n",
    "You should load packages you may need in this project first"
   ]
  },
  {
   "cell_type": "code",
   "execution_count": 1,
   "metadata": {
    "scrolled": true
   },
   "outputs": [
    {
     "name": "stderr",
     "output_type": "stream",
     "text": [
      "Using TensorFlow backend.\n"
     ]
    }
   ],
   "source": [
    "import skimage.io\n",
    "import skimage.color\n",
    "import skimage.transform\n",
    "import matplotlib.pyplot as plt\n",
    "%matplotlib inline\n",
    "\n",
    "import numpy as np\n",
    "import os\n",
    "import random\n",
    "\n",
    "import keras\n",
    "from keras.datasets import mnist\n",
    "from keras.models import Sequential\n",
    "from keras.layers import Dense, Dropout, Flatten\n",
    "from keras.layers import Conv2D, MaxPooling2D\n",
    "from keras import backend as K"
   ]
  },
  {
   "cell_type": "markdown",
   "metadata": {},
   "source": [
    "# Load character data from the dataset subfolder\n"
   ]
  },
  {
   "cell_type": "code",
   "execution_count": 2,
   "metadata": {
    "scrolled": true
   },
   "outputs": [],
   "source": [
    "#skimage.io.imread()\n",
    "#skimage.color.rgb2gray()\n",
    "\n",
    "DATASET_DIR = './dataset'\n",
    "nums = os.listdir(DATASET_DIR)\n",
    "data = []\n",
    "for num in nums:\n",
    "    imgs = os.listdir(DATASET_DIR+'/'+num)\n",
    "    for i in imgs:\n",
    "        img = skimage.io.imread(DATASET_DIR+'/'+num+'/'+i)\n",
    "        img = skimage.color.rgb2gray(img)\n",
    "        data.append({\n",
    "            'x': img,\n",
    "            'y': num\n",
    "        })\n",
    "        \n",
    "random.shuffle(data)"
   ]
  },
  {
   "cell_type": "code",
   "execution_count": 3,
   "metadata": {
    "scrolled": true
   },
   "outputs": [
    {
     "name": "stdout",
     "output_type": "stream",
     "text": [
      "L\n"
     ]
    },
    {
     "data": {
      "text/plain": [
       "<matplotlib.image.AxesImage at 0x22396c76be0>"
      ]
     },
     "execution_count": 3,
     "metadata": {},
     "output_type": "execute_result"
    },
    {
     "data": {
      "image/png": "[encoded data removed]",
      "text/plain": [
       "<Figure size 432x288 with 1 Axes>"
      ]
     },
     "metadata": {
      "needs_background": "light"
     },
     "output_type": "display_data"
    }
   ],
   "source": [
    "print(data[0]['y'])\n",
    "skimage.io.imshow(data[0]['x'])"
   ]
  },
  {
   "cell_type": "markdown",
   "metadata": {},
   "source": [
    "# create train data set and test data set \n",
    "Using 80/20 rule, 80 precent for trainning, and 20 percent for testing."
   ]
  },
  {
   "cell_type": "code",
   "execution_count": 4,
   "metadata": {},
   "outputs": [],
   "source": [
    "X = [d['x'] for d in data]\n",
    "y = [d['y'] for d in data]\n",
    "\n",
    "ys = list(np.unique(y))\n",
    "y = [ys.index(v) for v in y]\n",
    "\n",
    "x_train = np.array(X[:int(len(X)*0.8)])\n",
    "y_train = np.array(y[:int(len(X)*0.8)])\n",
    "\n",
    "x_test = np.array(X[int(len(X)*0.8):])\n",
    "y_test = np.array(y[int(len(X)*0.8):])"
   ]
  },
  {
   "cell_type": "markdown",
   "metadata": {},
   "source": [
    "# Examming and Understand data set for trainning\n"
   ]
  },
  {
   "cell_type": "code",
   "execution_count": 5,
   "metadata": {
    "scrolled": false
   },
   "outputs": [
    {
     "name": "stdout",
     "output_type": "stream",
     "text": [
      "[[  0.   1.   0.  58. 253. 255. 195.  18.   0.   0.   0.   1.   0.   0.\n",
      "    1.   0.   0.   0.   0.   0.]\n",
      " [  0.   3.   0.  54. 255. 255. 255.  94.   1.   0.   0.   1.   0.   0.\n",
      "    1.   0.   0.   0.   0.   0.]\n",
      " [  2.   0.   1. 231. 250. 255. 253. 236.   4.   1.   0.   0.   0.   0.\n",
      "    1.   0.   0.   0.   0.   0.]\n",
      " [  0.   1.   0. 214. 255. 252. 255. 254.   5.   1.   0.   0.   0.   0.\n",
      "    1.   0.   0.   0.   0.   0.]\n",
      " [  1.   1.   0.  59. 253. 252. 255. 164.   5.   0.   0.   0.   0.   0.\n",
      "    0.   0.   0.   0.   0.   0.]\n",
      " [  0.   3.   0. 239. 255. 255. 255. 240.   5.   0.   0.   1.   0.   0.\n",
      "    0.   0.   0.   0.   0.   0.]\n",
      " [  0.   0.   0. 255. 255. 255. 252. 255.   5.   1.   0.   1.   0.   0.\n",
      "    0.   0.   0.   0.   0.   0.]\n",
      " [  1.   0.   1. 255. 252. 255. 255. 253.   6.   1.   0.   1.   0.   0.\n",
      "    0.   0.   0.   0.   0.   0.]\n",
      " [  1.   0.   0.  64. 252. 255. 254. 255.   6.   0.   0.   2.   1.   0.\n",
      "    1.   0.   0.   0.   0.   0.]\n",
      " [  0.   4.   0.  55. 255. 255. 255. 255.   5.   0.   5.   2.   0.   0.\n",
      "    2.   0.   0.   0.   0.   0.]\n",
      " [  0.   0.   0.  58. 253. 255. 255. 254.   6.   0.   0.   0.   2.   0.\n",
      "    0.   1.   0.   0.   0.   0.]\n",
      " [  3.   0.   3.  58. 255. 255. 251. 255.   6.   2.   2.   2.   2.   0.\n",
      "    0.   0.   0.   0.   0.   0.]\n",
      " [  0.   0.   3.  53. 255. 255. 255. 255.  10.   0.   0.   1.   0.   4.\n",
      "    0.   1.   0.   0.   0.   0.]\n",
      " [  1.   0.   0.  60. 253. 255. 252. 255.   4.   3.   1.   2.   1.   0.\n",
      "    0.   0.   0.   0.   0.   0.]\n",
      " [  0.   2.   0. 252. 254. 255. 255. 255.   7.   0.   0.   0.   1.   0.\n",
      "    4.   2.   0.   0.   0.   0.]\n",
      " [  0.   1.   0. 171. 255. 254. 252. 255. 111.   2.   1.   0.   2.   2.\n",
      "    0.   0.   0.   0.   0.   0.]\n",
      " [  1.   0.   0.  59. 253. 255. 255. 255. 255. 199. 199. 197. 198. 199.\n",
      "  182.   0.   0.   2.   0.   0.]\n",
      " [  1.   0.   0.  54. 255. 255. 255. 255. 253. 253. 105.  36. 255. 253.\n",
      "  240.  30.   9.   0.   1.   4.]\n",
      " [  1.   1.   0.  61. 252. 255. 255. 255. 255. 255. 254. 255. 255. 255.\n",
      "  255. 254.  54.   3.   0.   0.]\n",
      " [  0.   0.   0.   7. 168. 255. 254. 254. 252. 254. 255. 255. 254. 252.\n",
      "  255. 254.  62.   0.   0.   1.]]\n",
      "[20 55  6 ... 17  1 38]\n",
      "12920\n"
     ]
    }
   ],
   "source": [
    "# you may print out some infomation about train data set \n",
    "print(x_train[0])\n",
    "print(y_train)\n",
    "print(len(y_train))"
   ]
  },
  {
   "cell_type": "markdown",
   "metadata": {},
   "source": [
    "# Decide a few parameters for trainning\n",
    "\n",
    "such as batch size, epochs, image size in rows and colomns, etc."
   ]
  },
  {
   "cell_type": "code",
   "execution_count": 6,
   "metadata": {},
   "outputs": [],
   "source": [
    "batch_size = 128\n",
    "num_classes = len(nums)\n",
    "epochs = 19\n",
    "\n",
    "# input image dimensions\n",
    "img_rows, img_cols = 20, 20"
   ]
  },
  {
   "cell_type": "markdown",
   "metadata": {},
   "source": [
    "# Data normalization"
   ]
  },
  {
   "cell_type": "code",
   "execution_count": 7,
   "metadata": {},
   "outputs": [],
   "source": [
    "def extend_channel(data):\n",
    "    if K.image_data_format() == 'channels_first':\n",
    "        data = data.reshape(data.shape[0], 1, img_rows, img_cols)\n",
    "    else:\n",
    "        data = data.reshape(data.shape[0], img_rows, img_cols, 1)\n",
    "        \n",
    "    return data\n",
    "\n",
    "x_train = extend_channel(x_train)\n",
    "x_test = extend_channel(x_test)\n",
    "\n",
    "input_shape = x_train.shape[1:]"
   ]
  },
  {
   "cell_type": "code",
   "execution_count": 9,
   "metadata": {},
   "outputs": [
    {
     "data": {
      "text/plain": [
       "array([[[[0.],\n",
       "         [1.],\n",
       "         [0.],\n",
       "         ...,\n",
       "         [0.],\n",
       "         [0.],\n",
       "         [0.]],\n",
       "\n",
       "        [[0.],\n",
       "         [3.],\n",
       "         [0.],\n",
       "         ...,\n",
       "         [0.],\n",
       "         [0.],\n",
       "         [0.]],\n",
       "\n",
       "        [[2.],\n",
       "         [0.],\n",
       "         [1.],\n",
       "         ...,\n",
       "         [0.],\n",
       "         [0.],\n",
       "         [0.]],\n",
       "\n",
       "        ...,\n",
       "\n",
       "        [[1.],\n",
       "         [0.],\n",
       "         [0.],\n",
       "         ...,\n",
       "         [0.],\n",
       "         [1.],\n",
       "         [4.]],\n",
       "\n",
       "        [[1.],\n",
       "         [1.],\n",
       "         [0.],\n",
       "         ...,\n",
       "         [3.],\n",
       "         [0.],\n",
       "         [0.]],\n",
       "\n",
       "        [[0.],\n",
       "         [0.],\n",
       "         [0.],\n",
       "         ...,\n",
       "         [0.],\n",
       "         [0.],\n",
       "         [1.]]],\n",
       "\n",
       "\n",
       "       [[[0.],\n",
       "         [1.],\n",
       "         [0.],\n",
       "         ...,\n",
       "         [0.],\n",
       "         [0.],\n",
       "         [0.]],\n",
       "\n",
       "        [[1.],\n",
       "         [0.],\n",
       "         [2.],\n",
       "         ...,\n",
       "         [0.],\n",
       "         [0.],\n",
       "         [0.]],\n",
       "\n",
       "        [[0.],\n",
       "         [0.],\n",
       "         [1.],\n",
       "         ...,\n",
       "         [0.],\n",
       "         [0.],\n",
       "         [0.]],\n",
       "\n",
       "        ...,\n",
       "\n",
       "        [[0.],\n",
       "         [0.],\n",
       "         [1.],\n",
       "         ...,\n",
       "         [0.],\n",
       "         [0.],\n",
       "         [0.]],\n",
       "\n",
       "        [[1.],\n",
       "         [0.],\n",
       "         [3.],\n",
       "         ...,\n",
       "         [0.],\n",
       "         [0.],\n",
       "         [0.]],\n",
       "\n",
       "        [[2.],\n",
       "         [0.],\n",
       "         [0.],\n",
       "         ...,\n",
       "         [0.],\n",
       "         [0.],\n",
       "         [0.]]],\n",
       "\n",
       "\n",
       "       [[[0.],\n",
       "         [0.],\n",
       "         [1.],\n",
       "         ...,\n",
       "         [0.],\n",
       "         [0.],\n",
       "         [0.]],\n",
       "\n",
       "        [[0.],\n",
       "         [3.],\n",
       "         [0.],\n",
       "         ...,\n",
       "         [0.],\n",
       "         [0.],\n",
       "         [0.]],\n",
       "\n",
       "        [[0.],\n",
       "         [2.],\n",
       "         [0.],\n",
       "         ...,\n",
       "         [0.],\n",
       "         [0.],\n",
       "         [0.]],\n",
       "\n",
       "        ...,\n",
       "\n",
       "        [[0.],\n",
       "         [4.],\n",
       "         [0.],\n",
       "         ...,\n",
       "         [0.],\n",
       "         [0.],\n",
       "         [0.]],\n",
       "\n",
       "        [[0.],\n",
       "         [0.],\n",
       "         [2.],\n",
       "         ...,\n",
       "         [0.],\n",
       "         [0.],\n",
       "         [0.]],\n",
       "\n",
       "        [[0.],\n",
       "         [1.],\n",
       "         [0.],\n",
       "         ...,\n",
       "         [0.],\n",
       "         [0.],\n",
       "         [0.]]],\n",
       "\n",
       "\n",
       "       ...,\n",
       "\n",
       "\n",
       "       [[[1.],\n",
       "         [0.],\n",
       "         [2.],\n",
       "         ...,\n",
       "         [0.],\n",
       "         [0.],\n",
       "         [0.]],\n",
       "\n",
       "        [[2.],\n",
       "         [0.],\n",
       "         [1.],\n",
       "         ...,\n",
       "         [0.],\n",
       "         [0.],\n",
       "         [0.]],\n",
       "\n",
       "        [[0.],\n",
       "         [2.],\n",
       "         [0.],\n",
       "         ...,\n",
       "         [0.],\n",
       "         [0.],\n",
       "         [0.]],\n",
       "\n",
       "        ...,\n",
       "\n",
       "        [[0.],\n",
       "         [0.],\n",
       "         [0.],\n",
       "         ...,\n",
       "         [0.],\n",
       "         [0.],\n",
       "         [0.]],\n",
       "\n",
       "        [[1.],\n",
       "         [0.],\n",
       "         [3.],\n",
       "         ...,\n",
       "         [0.],\n",
       "         [0.],\n",
       "         [0.]],\n",
       "\n",
       "        [[0.],\n",
       "         [4.],\n",
       "         [0.],\n",
       "         ...,\n",
       "         [0.],\n",
       "         [0.],\n",
       "         [0.]]],\n",
       "\n",
       "\n",
       "       [[[0.],\n",
       "         [0.],\n",
       "         [0.],\n",
       "         ...,\n",
       "         [0.],\n",
       "         [0.],\n",
       "         [0.]],\n",
       "\n",
       "        [[0.],\n",
       "         [0.],\n",
       "         [0.],\n",
       "         ...,\n",
       "         [0.],\n",
       "         [0.],\n",
       "         [0.]],\n",
       "\n",
       "        [[0.],\n",
       "         [0.],\n",
       "         [0.],\n",
       "         ...,\n",
       "         [0.],\n",
       "         [0.],\n",
       "         [0.]],\n",
       "\n",
       "        ...,\n",
       "\n",
       "        [[0.],\n",
       "         [0.],\n",
       "         [0.],\n",
       "         ...,\n",
       "         [0.],\n",
       "         [0.],\n",
       "         [0.]],\n",
       "\n",
       "        [[0.],\n",
       "         [0.],\n",
       "         [0.],\n",
       "         ...,\n",
       "         [0.],\n",
       "         [0.],\n",
       "         [0.]],\n",
       "\n",
       "        [[0.],\n",
       "         [0.],\n",
       "         [0.],\n",
       "         ...,\n",
       "         [0.],\n",
       "         [0.],\n",
       "         [0.]]],\n",
       "\n",
       "\n",
       "       [[[2.],\n",
       "         [0.],\n",
       "         [0.],\n",
       "         ...,\n",
       "         [0.],\n",
       "         [0.],\n",
       "         [0.]],\n",
       "\n",
       "        [[1.],\n",
       "         [0.],\n",
       "         [0.],\n",
       "         ...,\n",
       "         [0.],\n",
       "         [0.],\n",
       "         [0.]],\n",
       "\n",
       "        [[0.],\n",
       "         [4.],\n",
       "         [0.],\n",
       "         ...,\n",
       "         [0.],\n",
       "         [0.],\n",
       "         [0.]],\n",
       "\n",
       "        ...,\n",
       "\n",
       "        [[2.],\n",
       "         [0.],\n",
       "         [0.],\n",
       "         ...,\n",
       "         [0.],\n",
       "         [0.],\n",
       "         [0.]],\n",
       "\n",
       "        [[1.],\n",
       "         [0.],\n",
       "         [0.],\n",
       "         ...,\n",
       "         [0.],\n",
       "         [0.],\n",
       "         [0.]],\n",
       "\n",
       "        [[0.],\n",
       "         [1.],\n",
       "         [1.],\n",
       "         ...,\n",
       "         [0.],\n",
       "         [0.],\n",
       "         [0.]]]])"
      ]
     },
     "execution_count": 9,
     "metadata": {},
     "output_type": "execute_result"
    }
   ],
   "source": [
    "x_train"
   ]
  },
  {
   "cell_type": "code",
   "execution_count": 8,
   "metadata": {},
   "outputs": [
    {
     "data": {
      "text/plain": [
       "(20, 20, 1)"
      ]
     },
     "execution_count": 8,
     "metadata": {},
     "output_type": "execute_result"
    }
   ],
   "source": [
    "input_shape"
   ]
  },
  {
   "cell_type": "code",
   "execution_count": 8,
   "metadata": {},
   "outputs": [],
   "source": [
    "#keras.utils.to_categorical()\n",
    "x_train = x_train.astype('float32')\n",
    "x_test = x_test.astype('float32')\n",
    "x_train /= 255\n",
    "x_test /= 255\n",
    "\n",
    "y_train2 = keras.utils.to_categorical(y_train, num_classes)\n",
    "y_test2 = keras.utils.to_categorical(y_test, num_classes)"
   ]
  },
  {
   "cell_type": "markdown",
   "metadata": {},
   "source": [
    "# Create a CNN model for character recognition\n",
    "\n",
    "This is an important part of this project. You have to create a cnn model using tensorflow and keras to train the data.\n"
   ]
  },
  {
   "cell_type": "code",
   "execution_count": 9,
   "metadata": {},
   "outputs": [],
   "source": [
    "model = Sequential()\n",
    "model.add(Conv2D(32, kernel_size=(3, 3),\n",
    "                 activation='relu',\n",
    "                 input_shape=input_shape))\n",
    "model.add(Conv2D(64, (3, 3), activation='relu'))\n",
    "model.add(MaxPooling2D(pool_size=(2, 2)))\n",
    "model.add(Dropout(0.25))\n",
    "model.add(Flatten())\n",
    "model.add(Dense(128, activation='relu'))\n",
    "model.add(Dropout(0.5))\n",
    "model.add(Dense(num_classes, activation='softmax'))\n",
    "\n",
    "model.compile(loss=keras.losses.categorical_crossentropy,\n",
    "              optimizer=keras.optimizers.Adadelta(),\n",
    "              metrics=['accuracy'])"
   ]
  },
  {
   "cell_type": "markdown",
   "metadata": {},
   "source": [
    "# Compile the model"
   ]
  },
  {
   "cell_type": "code",
   "execution_count": 10,
   "metadata": {
    "scrolled": false
   },
   "outputs": [
    {
     "name": "stdout",
     "output_type": "stream",
     "text": [
      "Model: \"sequential_1\"\n",
      "_________________________________________________________________\n",
      "Layer (type)                 Output Shape              Param #   \n",
      "=================================================================\n",
      "conv2d_1 (Conv2D)            (None, 18, 18, 32)        320       \n",
      "_________________________________________________________________\n",
      "conv2d_2 (Conv2D)            (None, 16, 16, 64)        18496     \n",
      "_________________________________________________________________\n",
      "max_pooling2d_1 (MaxPooling2 (None, 8, 8, 64)          0         \n",
      "_________________________________________________________________\n",
      "dropout_1 (Dropout)          (None, 8, 8, 64)          0         \n",
      "_________________________________________________________________\n",
      "flatten_1 (Flatten)          (None, 4096)              0         \n",
      "_________________________________________________________________\n",
      "dense_1 (Dense)              (None, 128)               524416    \n",
      "_________________________________________________________________\n",
      "dropout_2 (Dropout)          (None, 128)               0         \n",
      "_________________________________________________________________\n",
      "dense_2 (Dense)              (None, 65)                8385      \n",
      "=================================================================\n",
      "Total params: 551,617\n",
      "Trainable params: 551,617\n",
      "Non-trainable params: 0\n",
      "_________________________________________________________________\n"
     ]
    }
   ],
   "source": [
    "model.compile(loss=keras.losses.categorical_crossentropy,\n",
    "              optimizer=keras.optimizers.Adadelta(),\n",
    "              metrics=['accuracy'])\n",
    "model.summary()"
   ]
  },
  {
   "cell_type": "markdown",
   "metadata": {},
   "source": [
    "# Train your model\n"
   ]
  },
  {
   "cell_type": "code",
   "execution_count": 11,
   "metadata": {
    "scrolled": false
   },
   "outputs": [
    {
     "name": "stdout",
     "output_type": "stream",
     "text": [
      "Train on 12920 samples, validate on 3231 samples\n",
      "Epoch 1/19\n",
      "12920/12920 [==============================] - 5s 349us/step - loss: 1.6687 - accuracy: 0.6111 - val_loss: 0.3930 - val_accuracy: 0.9183\n",
      "Epoch 2/19\n",
      "12920/12920 [==============================] - 3s 210us/step - loss: 0.4535 - accuracy: 0.8848 - val_loss: 0.1774 - val_accuracy: 0.9601\n",
      "Epoch 3/19\n",
      "12920/12920 [==============================] - 3s 210us/step - loss: 0.2911 - accuracy: 0.9278 - val_loss: 0.1401 - val_accuracy: 0.9718\n",
      "Epoch 4/19\n",
      "12920/12920 [==============================] - 3s 212us/step - loss: 0.2179 - accuracy: 0.9450 - val_loss: 0.1186 - val_accuracy: 0.9746\n",
      "Epoch 5/19\n",
      "12920/12920 [==============================] - 3s 212us/step - loss: 0.1832 - accuracy: 0.9541 - val_loss: 0.1137 - val_accuracy: 0.9755\n",
      "Epoch 6/19\n",
      "12920/12920 [==============================] - 3s 212us/step - loss: 0.1530 - accuracy: 0.9623 - val_loss: 0.1017 - val_accuracy: 0.9774\n",
      "Epoch 7/19\n",
      "12920/12920 [==============================] - 3s 213us/step - loss: 0.1376 - accuracy: 0.9666 - val_loss: 0.1006 - val_accuracy: 0.9774\n",
      "Epoch 8/19\n",
      "12920/12920 [==============================] - 3s 211us/step - loss: 0.1279 - accuracy: 0.9690 - val_loss: 0.0900 - val_accuracy: 0.9814\n",
      "Epoch 9/19\n",
      "12920/12920 [==============================] - 3s 214us/step - loss: 0.1095 - accuracy: 0.9720 - val_loss: 0.0920 - val_accuracy: 0.9805\n",
      "Epoch 10/19\n",
      "12920/12920 [==============================] - 3s 213us/step - loss: 0.1019 - accuracy: 0.9730 - val_loss: 0.0889 - val_accuracy: 0.9824\n",
      "Epoch 11/19\n",
      "12920/12920 [==============================] - 3s 214us/step - loss: 0.0909 - accuracy: 0.9760 - val_loss: 0.0841 - val_accuracy: 0.9830\n",
      "Epoch 12/19\n",
      "12920/12920 [==============================] - 3s 213us/step - loss: 0.0849 - accuracy: 0.9774 - val_loss: 0.0856 - val_accuracy: 0.9830\n",
      "Epoch 13/19\n",
      "12920/12920 [==============================] - 3s 217us/step - loss: 0.0827 - accuracy: 0.9783 - val_loss: 0.0867 - val_accuracy: 0.9830\n",
      "Epoch 14/19\n",
      "12920/12920 [==============================] - 3s 218us/step - loss: 0.0741 - accuracy: 0.9803 - val_loss: 0.0839 - val_accuracy: 0.9833\n",
      "Epoch 15/19\n",
      "12920/12920 [==============================] - 3s 217us/step - loss: 0.0670 - accuracy: 0.9818 - val_loss: 0.0814 - val_accuracy: 0.9839\n",
      "Epoch 16/19\n",
      "12920/12920 [==============================] - 3s 220us/step - loss: 0.0663 - accuracy: 0.9810 - val_loss: 0.0832 - val_accuracy: 0.9839\n",
      "Epoch 17/19\n",
      "12920/12920 [==============================] - 3s 218us/step - loss: 0.0639 - accuracy: 0.9834 - val_loss: 0.0864 - val_accuracy: 0.9830\n",
      "Epoch 18/19\n",
      "12920/12920 [==============================] - 3s 218us/step - loss: 0.0614 - accuracy: 0.9821 - val_loss: 0.0861 - val_accuracy: 0.9842\n",
      "Epoch 19/19\n",
      "12920/12920 [==============================] - 3s 219us/step - loss: 0.0605 - accuracy: 0.9848 - val_loss: 0.0798 - val_accuracy: 0.9830\n"
     ]
    }
   ],
   "source": [
    "#model.fit()\n",
    "x_train = extend_channel(x_train)\n",
    "result = model.fit(x_train, y_train2,\n",
    "          batch_size=batch_size,\n",
    "          epochs=epochs,\n",
    "          verbose=1,\n",
    "          validation_data=(x_test, y_test2))"
   ]
  },
  {
   "cell_type": "markdown",
   "metadata": {},
   "source": [
    "# Visualize training results"
   ]
  },
  {
   "cell_type": "code",
   "execution_count": 12,
   "metadata": {},
   "outputs": [],
   "source": [
    "epochs_range = range(1,20)\n",
    "acc = result.history['accuracy']\n",
    "val_acc = result.history['val_accuracy']\n",
    "loss = result.history['loss']\n",
    "val_loss = result.history['val_loss']"
   ]
  },
  {
   "cell_type": "code",
   "execution_count": 13,
   "metadata": {
    "scrolled": false
   },
   "outputs": [
    {
     "data": {
      "image/png": "[encoded data removed]",
      "text/plain": [
       "<Figure size 576x576 with 2 Axes>"
      ]
     },
     "metadata": {
      "needs_background": "light"
     },
     "output_type": "display_data"
    }
   ],
   "source": [
    "plt.figure(figsize=(8, 8))\n",
    "plt.subplot(1, 2, 1)\n",
    "plt.plot(epochs_range, acc, label='Training Accuracy')\n",
    "plt.plot(epochs_range, val_acc, label='Validation Accuracy')\n",
    "plt.legend(loc='lower right')\n",
    "plt.title('Training and Validation Accuracy')\n",
    "\n",
    "plt.subplot(1, 2, 2)\n",
    "plt.plot(epochs_range, loss, label='Training Loss')\n",
    "plt.plot(epochs_range, val_loss, label='Validation Loss')\n",
    "plt.legend(loc='upper right')\n",
    "plt.title('Training and Validation Loss')\n",
    "plt.show()"
   ]
  },
  {
   "cell_type": "markdown",
   "metadata": {},
   "source": [
    "# Model Evaluation \n",
    "\n",
    "Evaluate your model with test dataset.\n",
    "\n",
    "make sure your model accuracy should be more than 99 percent. Otherwise, you have to go back to fine tune your model with whatever methods you have learned to improve its accuracy. You have to handle over-fitting or under-fitting problem you may encounter."
   ]
  },
  {
   "cell_type": "code",
   "execution_count": 14,
   "metadata": {
    "scrolled": true
   },
   "outputs": [
    {
     "name": "stdout",
     "output_type": "stream",
     "text": [
      "3231/3231 [==============================] - 1s 165us/step\n",
      "Test loss: 0.07981841361566444\n",
      "Test accuracy: 0.9829773902893066\n"
     ]
    }
   ],
   "source": [
    "score = model.evaluate(x_test, y_test2, verbose=1)\n",
    "print('Test loss:', score[0])\n",
    "print('Test accuracy:', score[1])"
   ]
  },
  {
   "cell_type": "markdown",
   "metadata": {},
   "source": [
    "# Save your model weights\n",
    "\n",
    "You should save your model for car plate recognition purpose later.\n"
   ]
  },
  {
   "cell_type": "code",
   "execution_count": 15,
   "metadata": {},
   "outputs": [],
   "source": [
    "model.save_weights('char_cnn_new.h5')"
   ]
  },
  {
   "cell_type": "code",
   "execution_count": null,
   "metadata": {},
   "outputs": [],
   "source": []
  }
 ],
 "metadata": {
  "kernelspec": {
   "display_name": "Python: MlearnGPU",
   "language": "python",
   "name": "mlearngpu"
  },
  "language_info": {
   "codemirror_mode": {
    "name": "ipython",
    "version": 3
   },
   "file_extension": ".py",
   "mimetype": "text/x-python",
   "name": "python",
   "nbconvert_exporter": "python",
   "pygments_lexer": "ipython3",
   "version": "3.6.5"
  }
 },
 "nbformat": 4,
 "nbformat_minor": 2
}
