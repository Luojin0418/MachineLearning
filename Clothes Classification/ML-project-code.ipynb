{
 "cells": [
  {
   "cell_type": "markdown",
   "metadata": {},
   "source": [
    "# Clothes type recognition and classification\n",
    "\n",
    "\n",
    "> **Demo Project:** In this project we will train clothes classifier that will recognize clothes types (10 categories) from `28x28` pixel images \n",
    "\n"
   ]
  },
  {
   "cell_type": "markdown",
   "metadata": {},
   "source": [
    "## Background"
   ]
  },
  {
   "cell_type": "markdown",
   "metadata": {},
   "source": [
    "Clothes recognition technology allows you to find the some similar clothes in a short time. At the same time, it can divide different clothes into several common categories to achieve your own classification. For the salers, designers, and Taobao shop owners, The function might be very practical."
   ]
  },
  {
   "cell_type": "code",
   "execution_count": 1,
   "metadata": {},
   "outputs": [],
   "source": [
    "# To make debugging of multilayer_perceptron module easier we enable imported modules autoreloading feature.\n",
    "# By doing this you may change the code of multilayer_perceptron library and all these changes will be available here.\n",
    "# %load_ext autoreload\n",
    "# %autoreload 2\n",
    "\n",
    "# Add project root folder to module loading paths.\n",
    "import sys\n",
    "sys.path.append('../..')"
   ]
  },
  {
   "cell_type": "markdown",
   "metadata": {},
   "source": [
    "### Import Dependencies"
   ]
  },
  {
   "cell_type": "code",
   "execution_count": 2,
   "metadata": {},
   "outputs": [],
   "source": [
    "# Import 3rd party dependencies.\n",
    "import numpy as np\n",
    "import pandas as pd\n",
    "import matplotlib.pyplot as plt\n",
    "import matplotlib.image as mpimg\n",
    "import math\n",
    "\n",
    "# Import custom multilayer perceptron implementation.\n",
    "from homemade.neural_network import MultilayerPerceptron"
   ]
  },
  {
   "cell_type": "markdown",
   "metadata": {},
   "source": [
    "### Load the Data\n",
    "\n",
    "In this demo we will use a sample of [Fashion MNIST dataset in a CSV format](https://www.kaggle.com/zalando-research/fashionmnist) in the kaggle website.\n",
    "\n",
    "\n",
    "Instead of using full dataset with 60000 training examples we will use cut dataset of just 5000 examples that we will also split into training and testing sets.\n",
    "\n",
    "Each row in the dataset consists of 785 values: the first value is the label (a category from 0 to 9) and the remaining 784 values (28x28 pixels image) are the pixel values (a number from 0 to 255).\n",
    "\n",
    "Each training and test example is assigned to one of the following labels:\n",
    "\n",
    "- 0 T-shirt/top\n",
    "- 1 Trouser\n",
    "- 2 Pullover\n",
    "- 3 Dress\n",
    "- 4 Coat\n",
    "- 5 Sandal\n",
    "- 6 Shirt\n",
    "- 7 Sneaker\n",
    "- 8 Bag\n",
    "- 9 Ankle boot"
   ]
  },
  {
   "cell_type": "code",
   "execution_count": 3,
   "metadata": {
    "scrolled": false
   },
   "outputs": [
    {
     "data": {
      "text/html": [
       "<div>\n",
       "<style scoped>\n",
       "    .dataframe tbody tr th:only-of-type {\n",
       "        vertical-align: middle;\n",
       "    }\n",
       "\n",
       "    .dataframe tbody tr th {\n",
       "        vertical-align: top;\n",
       "    }\n",
       "\n",
       "    .dataframe thead th {\n",
       "        text-align: right;\n",
       "    }\n",
       "</style>\n",
       "<table border=\"1\" class=\"dataframe\">\n",
       "  <thead>\n",
       "    <tr style=\"text-align: right;\">\n",
       "      <th></th>\n",
       "      <th>label</th>\n",
       "      <th>pixel1</th>\n",
       "      <th>pixel2</th>\n",
       "      <th>pixel3</th>\n",
       "      <th>pixel4</th>\n",
       "      <th>pixel5</th>\n",
       "      <th>pixel6</th>\n",
       "      <th>pixel7</th>\n",
       "      <th>pixel8</th>\n",
       "      <th>pixel9</th>\n",
       "      <th>...</th>\n",
       "      <th>pixel775</th>\n",
       "      <th>pixel776</th>\n",
       "      <th>pixel777</th>\n",
       "      <th>pixel778</th>\n",
       "      <th>pixel779</th>\n",
       "      <th>pixel780</th>\n",
       "      <th>pixel781</th>\n",
       "      <th>pixel782</th>\n",
       "      <th>pixel783</th>\n",
       "      <th>pixel784</th>\n",
       "    </tr>\n",
       "  </thead>\n",
       "  <tbody>\n",
       "    <tr>\n",
       "      <th>0</th>\n",
       "      <td>2</td>\n",
       "      <td>0</td>\n",
       "      <td>0</td>\n",
       "      <td>0</td>\n",
       "      <td>0</td>\n",
       "      <td>0</td>\n",
       "      <td>0</td>\n",
       "      <td>0</td>\n",
       "      <td>0</td>\n",
       "      <td>0</td>\n",
       "      <td>...</td>\n",
       "      <td>0</td>\n",
       "      <td>0</td>\n",
       "      <td>0</td>\n",
       "      <td>0</td>\n",
       "      <td>0</td>\n",
       "      <td>0</td>\n",
       "      <td>0</td>\n",
       "      <td>0</td>\n",
       "      <td>0</td>\n",
       "      <td>0</td>\n",
       "    </tr>\n",
       "    <tr>\n",
       "      <th>1</th>\n",
       "      <td>9</td>\n",
       "      <td>0</td>\n",
       "      <td>0</td>\n",
       "      <td>0</td>\n",
       "      <td>0</td>\n",
       "      <td>0</td>\n",
       "      <td>0</td>\n",
       "      <td>0</td>\n",
       "      <td>0</td>\n",
       "      <td>0</td>\n",
       "      <td>...</td>\n",
       "      <td>0</td>\n",
       "      <td>0</td>\n",
       "      <td>0</td>\n",
       "      <td>0</td>\n",
       "      <td>0</td>\n",
       "      <td>0</td>\n",
       "      <td>0</td>\n",
       "      <td>0</td>\n",
       "      <td>0</td>\n",
       "      <td>0</td>\n",
       "    </tr>\n",
       "    <tr>\n",
       "      <th>2</th>\n",
       "      <td>6</td>\n",
       "      <td>0</td>\n",
       "      <td>0</td>\n",
       "      <td>0</td>\n",
       "      <td>0</td>\n",
       "      <td>0</td>\n",
       "      <td>0</td>\n",
       "      <td>0</td>\n",
       "      <td>5</td>\n",
       "      <td>0</td>\n",
       "      <td>...</td>\n",
       "      <td>0</td>\n",
       "      <td>0</td>\n",
       "      <td>0</td>\n",
       "      <td>30</td>\n",
       "      <td>43</td>\n",
       "      <td>0</td>\n",
       "      <td>0</td>\n",
       "      <td>0</td>\n",
       "      <td>0</td>\n",
       "      <td>0</td>\n",
       "    </tr>\n",
       "    <tr>\n",
       "      <th>3</th>\n",
       "      <td>0</td>\n",
       "      <td>0</td>\n",
       "      <td>0</td>\n",
       "      <td>0</td>\n",
       "      <td>1</td>\n",
       "      <td>2</td>\n",
       "      <td>0</td>\n",
       "      <td>0</td>\n",
       "      <td>0</td>\n",
       "      <td>0</td>\n",
       "      <td>...</td>\n",
       "      <td>3</td>\n",
       "      <td>0</td>\n",
       "      <td>0</td>\n",
       "      <td>0</td>\n",
       "      <td>0</td>\n",
       "      <td>1</td>\n",
       "      <td>0</td>\n",
       "      <td>0</td>\n",
       "      <td>0</td>\n",
       "      <td>0</td>\n",
       "    </tr>\n",
       "    <tr>\n",
       "      <th>4</th>\n",
       "      <td>3</td>\n",
       "      <td>0</td>\n",
       "      <td>0</td>\n",
       "      <td>0</td>\n",
       "      <td>0</td>\n",
       "      <td>0</td>\n",
       "      <td>0</td>\n",
       "      <td>0</td>\n",
       "      <td>0</td>\n",
       "      <td>0</td>\n",
       "      <td>...</td>\n",
       "      <td>0</td>\n",
       "      <td>0</td>\n",
       "      <td>0</td>\n",
       "      <td>0</td>\n",
       "      <td>0</td>\n",
       "      <td>0</td>\n",
       "      <td>0</td>\n",
       "      <td>0</td>\n",
       "      <td>0</td>\n",
       "      <td>0</td>\n",
       "    </tr>\n",
       "    <tr>\n",
       "      <th>5</th>\n",
       "      <td>4</td>\n",
       "      <td>0</td>\n",
       "      <td>0</td>\n",
       "      <td>0</td>\n",
       "      <td>5</td>\n",
       "      <td>4</td>\n",
       "      <td>5</td>\n",
       "      <td>5</td>\n",
       "      <td>3</td>\n",
       "      <td>5</td>\n",
       "      <td>...</td>\n",
       "      <td>7</td>\n",
       "      <td>8</td>\n",
       "      <td>7</td>\n",
       "      <td>4</td>\n",
       "      <td>3</td>\n",
       "      <td>7</td>\n",
       "      <td>5</td>\n",
       "      <td>0</td>\n",
       "      <td>0</td>\n",
       "      <td>0</td>\n",
       "    </tr>\n",
       "    <tr>\n",
       "      <th>6</th>\n",
       "      <td>4</td>\n",
       "      <td>0</td>\n",
       "      <td>0</td>\n",
       "      <td>0</td>\n",
       "      <td>0</td>\n",
       "      <td>0</td>\n",
       "      <td>0</td>\n",
       "      <td>0</td>\n",
       "      <td>0</td>\n",
       "      <td>0</td>\n",
       "      <td>...</td>\n",
       "      <td>14</td>\n",
       "      <td>0</td>\n",
       "      <td>0</td>\n",
       "      <td>0</td>\n",
       "      <td>0</td>\n",
       "      <td>0</td>\n",
       "      <td>0</td>\n",
       "      <td>0</td>\n",
       "      <td>0</td>\n",
       "      <td>0</td>\n",
       "    </tr>\n",
       "    <tr>\n",
       "      <th>7</th>\n",
       "      <td>5</td>\n",
       "      <td>0</td>\n",
       "      <td>0</td>\n",
       "      <td>0</td>\n",
       "      <td>0</td>\n",
       "      <td>0</td>\n",
       "      <td>0</td>\n",
       "      <td>0</td>\n",
       "      <td>0</td>\n",
       "      <td>0</td>\n",
       "      <td>...</td>\n",
       "      <td>0</td>\n",
       "      <td>0</td>\n",
       "      <td>0</td>\n",
       "      <td>0</td>\n",
       "      <td>0</td>\n",
       "      <td>0</td>\n",
       "      <td>0</td>\n",
       "      <td>0</td>\n",
       "      <td>0</td>\n",
       "      <td>0</td>\n",
       "    </tr>\n",
       "    <tr>\n",
       "      <th>8</th>\n",
       "      <td>4</td>\n",
       "      <td>0</td>\n",
       "      <td>0</td>\n",
       "      <td>0</td>\n",
       "      <td>0</td>\n",
       "      <td>0</td>\n",
       "      <td>0</td>\n",
       "      <td>3</td>\n",
       "      <td>2</td>\n",
       "      <td>0</td>\n",
       "      <td>...</td>\n",
       "      <td>1</td>\n",
       "      <td>0</td>\n",
       "      <td>0</td>\n",
       "      <td>0</td>\n",
       "      <td>0</td>\n",
       "      <td>0</td>\n",
       "      <td>0</td>\n",
       "      <td>0</td>\n",
       "      <td>0</td>\n",
       "      <td>0</td>\n",
       "    </tr>\n",
       "    <tr>\n",
       "      <th>9</th>\n",
       "      <td>8</td>\n",
       "      <td>0</td>\n",
       "      <td>0</td>\n",
       "      <td>0</td>\n",
       "      <td>0</td>\n",
       "      <td>0</td>\n",
       "      <td>0</td>\n",
       "      <td>0</td>\n",
       "      <td>0</td>\n",
       "      <td>0</td>\n",
       "      <td>...</td>\n",
       "      <td>203</td>\n",
       "      <td>214</td>\n",
       "      <td>166</td>\n",
       "      <td>0</td>\n",
       "      <td>0</td>\n",
       "      <td>0</td>\n",
       "      <td>0</td>\n",
       "      <td>0</td>\n",
       "      <td>0</td>\n",
       "      <td>0</td>\n",
       "    </tr>\n",
       "  </tbody>\n",
       "</table>\n",
       "<p>10 rows × 785 columns</p>\n",
       "</div>"
      ],
      "text/plain": [
       "   label  pixel1  pixel2  pixel3  pixel4  pixel5  pixel6  pixel7  pixel8  \\\n",
       "0      2       0       0       0       0       0       0       0       0   \n",
       "1      9       0       0       0       0       0       0       0       0   \n",
       "2      6       0       0       0       0       0       0       0       5   \n",
       "3      0       0       0       0       1       2       0       0       0   \n",
       "4      3       0       0       0       0       0       0       0       0   \n",
       "5      4       0       0       0       5       4       5       5       3   \n",
       "6      4       0       0       0       0       0       0       0       0   \n",
       "7      5       0       0       0       0       0       0       0       0   \n",
       "8      4       0       0       0       0       0       0       3       2   \n",
       "9      8       0       0       0       0       0       0       0       0   \n",
       "\n",
       "   pixel9  ...  pixel775  pixel776  pixel777  pixel778  pixel779  pixel780  \\\n",
       "0       0  ...         0         0         0         0         0         0   \n",
       "1       0  ...         0         0         0         0         0         0   \n",
       "2       0  ...         0         0         0        30        43         0   \n",
       "3       0  ...         3         0         0         0         0         1   \n",
       "4       0  ...         0         0         0         0         0         0   \n",
       "5       5  ...         7         8         7         4         3         7   \n",
       "6       0  ...        14         0         0         0         0         0   \n",
       "7       0  ...         0         0         0         0         0         0   \n",
       "8       0  ...         1         0         0         0         0         0   \n",
       "9       0  ...       203       214       166         0         0         0   \n",
       "\n",
       "   pixel781  pixel782  pixel783  pixel784  \n",
       "0         0         0         0         0  \n",
       "1         0         0         0         0  \n",
       "2         0         0         0         0  \n",
       "3         0         0         0         0  \n",
       "4         0         0         0         0  \n",
       "5         5         0         0         0  \n",
       "6         0         0         0         0  \n",
       "7         0         0         0         0  \n",
       "8         0         0         0         0  \n",
       "9         0         0         0         0  \n",
       "\n",
       "[10 rows x 785 columns]"
      ]
     },
     "execution_count": 3,
     "metadata": {},
     "output_type": "execute_result"
    }
   ],
   "source": [
    "# Load the data.\n",
    "data = pd.read_csv('fashion-mnist-demo.csv')\n",
    "\n",
    "# Laets create the mapping between numeric category and category name.\n",
    "label_map = {\n",
    "    0: 'T-shirt/top',\n",
    "    1: 'Trouser',\n",
    "    2: 'Pullover',\n",
    "    3: 'Dress',\n",
    "    4: 'Coat',\n",
    "    5: 'Sandal',\n",
    "    6: 'Shirt',\n",
    "    7: 'Sneaker',\n",
    "    8: 'Bag',\n",
    "    9: 'Ankle boot',\n",
    "}\n",
    "\n",
    "# Print the data table.\n",
    "data.head(10)"
   ]
  },
  {
   "cell_type": "code",
   "execution_count": 4,
   "metadata": {
    "scrolled": true
   },
   "outputs": [
    {
     "name": "stdout",
     "output_type": "stream",
     "text": [
      "<class 'pandas.core.frame.DataFrame'>\n",
      "RangeIndex: 5000 entries, 0 to 4999\n",
      "Columns: 785 entries, label to pixel784\n",
      "dtypes: int64(785)\n",
      "memory usage: 29.9 MB\n"
     ]
    }
   ],
   "source": [
    "data.info()"
   ]
  },
  {
   "cell_type": "markdown",
   "metadata": {},
   "source": [
    "### Plot the Data\n",
    "\n",
    "Let's peek first 25 rows of the dataset and display them as an images to have an example of clothes we will be working with."
   ]
  },
  {
   "cell_type": "code",
   "execution_count": 5,
   "metadata": {
    "scrolled": false
   },
   "outputs": [
    {
     "data": {
      "image/png": "[encoded data removed]",
      "text/plain": [
       "<Figure size 720x720 with 25 Axes>"
      ]
     },
     "metadata": {},
     "output_type": "display_data"
    }
   ],
   "source": [
    "# How many images to display.\n",
    "numbers_to_display = 25\n",
    "\n",
    "# Calculate the number of cells that will hold all the images.\n",
    "num_cells = math.ceil(math.sqrt(numbers_to_display))\n",
    "\n",
    "# Make the plot a little bit bigger than default one.\n",
    "plt.figure(figsize=(10, 10))\n",
    "\n",
    "# Go through the first images in a training set and plot them.\n",
    "for plot_index in range(numbers_to_display):\n",
    "    # Extract image data.\n",
    "    digit = data[plot_index:plot_index + 1].values\n",
    "    digit_label = digit[0][0]\n",
    "    digit_pixels = digit[0][1:]\n",
    "\n",
    "    # Calculate image size (remember that each picture has square proportions).\n",
    "    image_size = int(math.sqrt(digit_pixels.shape[0]))\n",
    "    \n",
    "    # Convert image vector into the matrix of pixels.\n",
    "    frame = digit_pixels.reshape((image_size, image_size))\n",
    "    \n",
    "    # Plot the image matrix.\n",
    "    plt.subplot(num_cells, num_cells, plot_index + 1)\n",
    "    plt.imshow(frame, cmap='Greys')\n",
    "    plt.title(label_map[digit_label])\n",
    "    plt.tick_params(axis='both', which='both', bottom=False, left=False, labelbottom=False, labelleft=False)\n",
    "\n",
    "# Plot all subplots.\n",
    "plt.subplots_adjust(hspace=0.5, wspace=0.5)\n",
    "plt.show()"
   ]
  },
  {
   "cell_type": "markdown",
   "metadata": {},
   "source": [
    "### Split the Data Into Training and Test Sets\n",
    "\n",
    "In this step we will split our dataset into _training_ and _testing_ subsets (in proportion 80/20%).\n",
    "\n",
    "Training data set will be used for training of our model. Testing dataset will be used for validating of the model. All data from testing dataset will be new to model and we may check how accurate are model predictions."
   ]
  },
  {
   "cell_type": "code",
   "execution_count": 45,
   "metadata": {},
   "outputs": [],
   "source": [
    "# Split data set on training and test sets with proportions 80/20.\n",
    "# Function sample() returns a random sample of items.\n",
    "pd_train_data = data.sample(frac=0.8)\n",
    "pd_test_data = data.drop(pd_train_data.index)\n",
    "\n",
    "# Convert training and testing data from Pandas to NumPy format.\n",
    "train_data = pd_train_data.values\n",
    "test_data = pd_test_data.values\n",
    "\n",
    "# Extract training/test labels and features.\n",
    "\n",
    "x_train = train_data[:, 1:]\n",
    "y_train = train_data[:, [0]]\n",
    "\n",
    "x_test = test_data[:, 1:]\n",
    "y_test = test_data[:, [0]]"
   ]
  },
  {
   "cell_type": "markdown",
   "metadata": {},
   "source": [
    "### Init and Train MLP Model\n",
    "  \n",
    "A **multilayer perceptron (MLP)** is a class of feedforward artificial neural network. An MLP consists of, at least, three layers of nodes: an input layer, a hidden layer and an output layer. Except for the input nodes, each node is a neuron that uses a nonlinear activation function. MLP utilizes a supervised learning technique called backpropagation for training. Its multiple layers and non-linear activation distinguish MLP from a linear perceptron. It can distinguish data that is not linearly separable.\n",
    "\n",
    "- `layers` - configuration of the multilayer perceptron layers (array of numbers where every number represents the number of nayron in specific layer).\n",
    "- `max_iterations` - this is the maximum number of iterations that gradient descent algorithm will use to find the minimum of a cost function. Low numbers may prevent gradient descent from reaching the minimum. High numbers will make the algorithm work longer without improving its accuracy.\n",
    "- `regularization_param` - parameter that will fight overfitting. The higher the parameter, the simplier is the model will be.\n",
    "- `normalize_data` - boolean flag that indicates whether data normalization is needed or not.\n",
    "- `alpha` - the size of gradient descent steps. You may need to reduce the step size if gradient descent can't find the cost function minimum. "
   ]
  },
  {
   "cell_type": "code",
   "execution_count": 7,
   "metadata": {
    "scrolled": false
   },
   "outputs": [
    {
     "data": {
      "image/png": "[encoded data removed]",
      "text/plain": [
       "<Figure size 432x288 with 1 Axes>"
      ]
     },
     "metadata": {
      "needs_background": "light"
     },
     "output_type": "display_data"
    }
   ],
   "source": [
    "# Configure neural network.\n",
    "layers = [\n",
    "    784, # Input layer - 28x28 input pixels.\n",
    "    25,  # First hidden layer - 25 hidden units.\n",
    "    10,  # Output layer - 10 labels, from 0 to 9.\n",
    "];\n",
    "normalize_data = True  # Flag that detects whether we want to do features normalization or not.\n",
    "epsilon = 0.12  # Defines the range for initial theta values.\n",
    "max_iterations = 350  # Max number of gradient descent iterations.\n",
    "regularization_param = 2  # Helps to fight model overfitting.\n",
    "alpha = 0.1  # Gradient descent step size.\n",
    "\n",
    "# Init neural network.\n",
    "multilayer_perceptron = MultilayerPerceptron(x_train, y_train, layers, epsilon, normalize_data)\n",
    "\n",
    "# Train neural network.\n",
    "(thetas, costs) = multilayer_perceptron.train(regularization_param, max_iterations, alpha)\n",
    "\n",
    "plt.plot(range(len(costs)), costs)\n",
    "plt.xlabel('Gradient Steps')\n",
    "plt.ylabel('Cost')\n",
    "plt.show()"
   ]
  },
  {
   "cell_type": "markdown",
   "metadata": {},
   "source": [
    "### Calculate Model Training Precision\n",
    "\n",
    "Calculate how many of training and test examples have been classified correctly. Normally we need test precission to be as high as possible. In case if training precision is high and test precission is low it may mean that our model is overfitted (it works really well with the training data set but it is not good at classifying new unknown data from the test dataset). In this case you may want to play with `regularization_param` parameter to fighth the overfitting."
   ]
  },
  {
   "cell_type": "code",
   "execution_count": 8,
   "metadata": {},
   "outputs": [
    {
     "name": "stdout",
     "output_type": "stream",
     "text": [
      "Training Precision: 87.0750%\n",
      "Test Precision: 80.9000%\n"
     ]
    }
   ],
   "source": [
    "# Make training set predictions.\n",
    "y_train_predictions = multilayer_perceptron.predict(x_train)\n",
    "y_test_predictions = multilayer_perceptron.predict(x_test)\n",
    "\n",
    "# Check what percentage of them are actually correct.\n",
    "train_precision = np.sum(y_train_predictions == y_train) / y_train.shape[0] * 100\n",
    "test_precision = np.sum(y_test_predictions == y_test) / y_test.shape[0] * 100\n",
    "\n",
    "print('Training Precision: {:5.4f}%'.format(train_precision))\n",
    "print('Test Precision: {:5.4f}%'.format(test_precision))"
   ]
  },
  {
   "cell_type": "code",
   "execution_count": 9,
   "metadata": {
    "scrolled": false
   },
   "outputs": [
    {
     "name": "stdout",
     "output_type": "stream",
     "text": [
      "\n",
      ">>>confusion matrix\n",
      " [[83  0  2  6  2  1  3  0  0  0]\n",
      " [ 0 87  0  0  0  0  0  0  0  0]\n",
      " [ 1  1 67  0  9  2  6  0  0  0]\n",
      " [ 4  3  0 96  5  0  4  0  0  0]\n",
      " [ 0  0 11  3 78  0 11  0  0  0]\n",
      " [ 0  0  0  0  0 95  0 10  0  2]\n",
      " [24  1 23  3 17  0 44  0  5  0]\n",
      " [ 0  0  0  0  0  5  0 91  0  8]\n",
      " [ 1  0  2  2  1  1  3  3 89  0]\n",
      " [ 0  0  0  0  0  0  0  6  0 79]]\n",
      "\n",
      ">>>classification report\n",
      "               precision    recall  f1-score   support\n",
      "\n",
      "           0       0.73      0.86      0.79        97\n",
      "           1       0.95      1.00      0.97        87\n",
      "           2       0.64      0.78      0.70        86\n",
      "           3       0.87      0.86      0.86       112\n",
      "           4       0.70      0.76      0.73       103\n",
      "           5       0.91      0.89      0.90       107\n",
      "           6       0.62      0.38      0.47       117\n",
      "           7       0.83      0.88      0.85       104\n",
      "           8       0.95      0.87      0.91       102\n",
      "           9       0.89      0.93      0.91        85\n",
      "\n",
      "    accuracy                           0.81      1000\n",
      "   macro avg       0.81      0.82      0.81      1000\n",
      "weighted avg       0.81      0.81      0.80      1000\n",
      "\n"
     ]
    }
   ],
   "source": [
    "from sklearn import metrics\n",
    "print('\\n>>>confusion matrix\\n', metrics.confusion_matrix(y_test, y_test_predictions))\n",
    "print('\\n>>>classification report\\n', metrics.classification_report(y_test, y_test_predictions))\n",
    "# print(\"\\n>>>ROC_AUC Score (Train): %f\\n\" % metrics.roc_auc_score(y_test, y_test_predictions))"
   ]
  },
  {
   "cell_type": "code",
   "execution_count": 10,
   "metadata": {},
   "outputs": [],
   "source": [
    "storage=[]\n",
    "storage.append(train_precision)\n",
    "storage.append(test_precision)"
   ]
  },
  {
   "cell_type": "markdown",
   "metadata": {},
   "source": [
    "### Init and Train Logistic Regression Model\n",
    "\n",
    "\n",
    "\n",
    "- `polynomial_degree` - this parameter will allow you to add additional polynomial features of certain degree. More features - more curved the line will be.\n",
    "- `max_iterations` - this is the maximum number of iterations that gradient descent algorithm will use to find the minimum of a cost function. Low numbers may prevent gradient descent from reaching the minimum. High numbers will make the algorithm work longer without improving its accuracy.\n",
    "- `regularization_param` - parameter that will fight overfitting. The higher the parameter, the simplier is the model will be.\n",
    "- `polynomial_degree` - the degree of additional polynomial features (`x1^2 * x2, x1^2 * x2^2, ...`). This will allow you to curve the predictions.\n",
    "- `sinusoid_degree` - the degree of sinusoid parameter multipliers of additional features (`sin(x), sin(2*x), ...`). This will allow you to curve the predictions by adding sinusoidal component to the prediction curve.\n",
    "- `normalize_data` - boolean flag that indicates whether data normalization is needed or not."
   ]
  },
  {
   "cell_type": "code",
   "execution_count": 11,
   "metadata": {},
   "outputs": [],
   "source": [
    "# Import custom logistic regression implementation.\n",
    "from homemade.logistic_regression import LogisticRegression"
   ]
  },
  {
   "cell_type": "code",
   "execution_count": 12,
   "metadata": {},
   "outputs": [],
   "source": [
    "# Set up linear regression parameters.\n",
    "max_iterations = 5000  # Max number of gradient descent iterations.\n",
    "regularization_param = 25  # Helps to fight model overfitting.\n",
    "polynomial_degree = 0  # The degree of additional polynomial features.\n",
    "sinusoid_degree = 0  # The degree of sinusoid parameter multipliers of additional features.\n",
    "normalize_data = True  # Whether we need to normalize data to make it more unifrom or not. \n",
    "\n",
    "# Init logistic regression instance.\n",
    "logistic_regression = LogisticRegression(x_train, y_train, polynomial_degree, sinusoid_degree, normalize_data)\n",
    "\n",
    "# Train logistic regression.\n",
    "(thetas, costs) = logistic_regression.train(regularization_param, max_iterations)"
   ]
  },
  {
   "cell_type": "markdown",
   "metadata": {},
   "source": [
    "### Analyze Gradient Descent Progress\n",
    "\n",
    "The plot below illustrates how the cost function value changes over each iteration. You should see it decreasing. \n",
    "\n",
    "In case if cost function value increases it may mean that gradient descent missed the cost function minimum and with each step it goes further away from it.\n",
    "\n",
    "From this plot you may also get an understanding of how many iterations you need to get an optimal value of the cost function."
   ]
  },
  {
   "cell_type": "code",
   "execution_count": 13,
   "metadata": {},
   "outputs": [
    {
     "data": {
      "image/png": "[encoded data removed]",
      "text/plain": [
       "<Figure size 432x288 with 1 Axes>"
      ]
     },
     "metadata": {
      "needs_background": "light"
     },
     "output_type": "display_data"
    }
   ],
   "source": [
    "# Draw gradient descent progress for each label.\n",
    "labels = logistic_regression.unique_labels\n",
    "for index, label in enumerate(labels):\n",
    "    plt.plot(range(len(costs[index])), costs[index], label=label_map[labels[index]])\n",
    "\n",
    "plt.xlabel('Gradient Steps')\n",
    "plt.ylabel('Cost')\n",
    "plt.legend()\n",
    "plt.show()"
   ]
  },
  {
   "cell_type": "markdown",
   "metadata": {},
   "source": [
    "### Calculate Model Training Precision\n",
    "\n",
    "Calculate how many of training and test examples have been classified correctly. Normally we need test precission to be as high as possible. In case if training precision is high and test precission is low it may mean that our model is overfitted (it works really well with the training data set but it is not good at classifying new unknown data from the test dataset). In this case you may want to play with `regularization_param` parameter to fighth the overfitting."
   ]
  },
  {
   "cell_type": "code",
   "execution_count": 14,
   "metadata": {},
   "outputs": [
    {
     "name": "stdout",
     "output_type": "stream",
     "text": [
      "Training Precision: 92.9000%\n",
      "Test Precision: 83.4000%\n"
     ]
    }
   ],
   "source": [
    "# Make training set predictions.\n",
    "y_train_predictions = logistic_regression.predict(x_train)\n",
    "y_test_predictions = logistic_regression.predict(x_test)\n",
    "\n",
    "# Check what percentage of them are actually correct.\n",
    "train_precision = np.sum(y_train_predictions == y_train) / y_train.shape[0] * 100\n",
    "test_precision = np.sum(y_test_predictions == y_test) / y_test.shape[0] * 100\n",
    "\n",
    "print('Training Precision: {:5.4f}%'.format(train_precision))\n",
    "print('Test Precision: {:5.4f}%'.format(test_precision))"
   ]
  },
  {
   "cell_type": "code",
   "execution_count": 15,
   "metadata": {},
   "outputs": [],
   "source": [
    "storage.append(train_precision)\n",
    "storage.append(test_precision)"
   ]
  },
  {
   "cell_type": "markdown",
   "metadata": {},
   "source": [
    "## SVM"
   ]
  },
  {
   "cell_type": "code",
   "execution_count": 16,
   "metadata": {},
   "outputs": [],
   "source": [
    "from sklearn import svm"
   ]
  },
  {
   "cell_type": "code",
   "execution_count": 17,
   "metadata": {
    "scrolled": true
   },
   "outputs": [
    {
     "data": {
      "text/plain": [
       "SVC(C=1.0, break_ties=False, cache_size=200, class_weight=None, coef0=0.0,\n",
       "    decision_function_shape='ovr', degree=3, gamma='scale', kernel='rbf',\n",
       "    max_iter=-1, probability=False, random_state=None, shrinking=True,\n",
       "    tol=0.001, verbose=False)"
      ]
     },
     "execution_count": 17,
     "metadata": {},
     "output_type": "execute_result"
    }
   ],
   "source": [
    "clf = svm.SVC(decision_function_shape='ovr')\n",
    "clf.fit(x_train, y_train.ravel())"
   ]
  },
  {
   "cell_type": "code",
   "execution_count": 18,
   "metadata": {
    "scrolled": true
   },
   "outputs": [
    {
     "name": "stdout",
     "output_type": "stream",
     "text": [
      "Training Precision: 0.8910%\n",
      "Test Precision: 0.8330%\n"
     ]
    }
   ],
   "source": [
    "train_precision = clf.score(x_train, y_train)\n",
    "test_precision = clf.score(x_test, y_test)\n",
    "\n",
    "print('Training Precision: {:5.4f}%'.format(train_precision))\n",
    "print('Test Precision: {:5.4f}%'.format(test_precision))"
   ]
  },
  {
   "cell_type": "code",
   "execution_count": 19,
   "metadata": {},
   "outputs": [],
   "source": [
    "storage.append(train_precision)\n",
    "storage.append(test_precision)"
   ]
  },
  {
   "cell_type": "markdown",
   "metadata": {},
   "source": [
    "## Random tree"
   ]
  },
  {
   "cell_type": "code",
   "execution_count": 20,
   "metadata": {},
   "outputs": [],
   "source": [
    "from sklearn import model_selection\n",
    "from sklearn.ensemble import RandomForestClassifier\n",
    "# your implementation here...\n",
    "\n",
    "# random forest tree model \n",
    "# kfold = model_selection.KFold(n_splits=10)\n",
    "random_clf = RandomForestClassifier(n_estimators=200)\n",
    "\n",
    "random_clf.fit(x_train, y_train.ravel())\n",
    "train_acc = model_selection.cross_val_score(random_clf, x_train, y_train.ravel(), cv=10, scoring='accuracy')\n",
    "test_acc = model_selection.cross_val_score(random_clf, x_train, y_train.ravel(), cv=10, scoring='accuracy')"
   ]
  },
  {
   "cell_type": "code",
   "execution_count": 21,
   "metadata": {
    "scrolled": true
   },
   "outputs": [
    {
     "name": "stdout",
     "output_type": "stream",
     "text": [
      "Training Precision: 0.8453%\n",
      "Test Precision: 0.8438%\n"
     ]
    }
   ],
   "source": [
    "print('Training Precision: {:5.4f}%'.format(train_acc.mean()))\n",
    "print('Test Precision: {:5.4f}%'.format(test_acc.mean()))"
   ]
  },
  {
   "cell_type": "code",
   "execution_count": 22,
   "metadata": {},
   "outputs": [],
   "source": [
    "storage.append(train_acc.mean())\n",
    "storage.append(test_acc.mean())"
   ]
  },
  {
   "cell_type": "markdown",
   "metadata": {},
   "source": [
    "## CNN model"
   ]
  },
  {
   "cell_type": "code",
   "execution_count": 38,
   "metadata": {
    "scrolled": false
   },
   "outputs": [],
   "source": [
    "import keras\n",
    "from keras.datasets import mnist\n",
    "from keras.models import Sequential\n",
    "from keras.layers import Dense, Dropout, Flatten\n",
    "from keras.layers import Conv2D, MaxPooling2D, Activation, BatchNormalization\n",
    "from keras import backend as K"
   ]
  },
  {
   "cell_type": "code",
   "execution_count": 46,
   "metadata": {},
   "outputs": [],
   "source": [
    "num_classes = 10\n",
    "batch_size = 128\n",
    "epochs = 20"
   ]
  },
  {
   "cell_type": "code",
   "execution_count": 47,
   "metadata": {},
   "outputs": [],
   "source": [
    "model = Sequential()\n",
    "model.add(Conv2D(32, kernel_size=(3, 3),\n",
    "                 activation='relu',\n",
    "                 input_shape=(28,28,1)))\n",
    "model.add(Conv2D(64, (3, 3), activation='relu'))\n",
    "model.add(MaxPooling2D(pool_size=(2, 2)))\n",
    "model.add(Dropout(0.25))\n",
    "model.add(Flatten())\n",
    "model.add(Dense(128, activation='relu'))\n",
    "model.add(Dropout(0.5))\n",
    "model.add(Dense(10, activation='softmax'))\n",
    "\n",
    "model.compile(loss=keras.losses.categorical_crossentropy,\n",
    "              optimizer=keras.optimizers.Adadelta(),\n",
    "              metrics=['accuracy'])"
   ]
  },
  {
   "cell_type": "code",
   "execution_count": 48,
   "metadata": {
    "scrolled": false
   },
   "outputs": [
    {
     "name": "stdout",
     "output_type": "stream",
     "text": [
      "Model: \"sequential_4\"\n",
      "_________________________________________________________________\n",
      "Layer (type)                 Output Shape              Param #   \n",
      "=================================================================\n",
      "conv2d_7 (Conv2D)            (None, 26, 26, 32)        320       \n",
      "_________________________________________________________________\n",
      "conv2d_8 (Conv2D)            (None, 24, 24, 64)        18496     \n",
      "_________________________________________________________________\n",
      "max_pooling2d_4 (MaxPooling2 (None, 12, 12, 64)        0         \n",
      "_________________________________________________________________\n",
      "dropout_7 (Dropout)          (None, 12, 12, 64)        0         \n",
      "_________________________________________________________________\n",
      "flatten_4 (Flatten)          (None, 9216)              0         \n",
      "_________________________________________________________________\n",
      "dense_7 (Dense)              (None, 128)               1179776   \n",
      "_________________________________________________________________\n",
      "dropout_8 (Dropout)          (None, 128)               0         \n",
      "_________________________________________________________________\n",
      "dense_8 (Dense)              (None, 10)                1290      \n",
      "=================================================================\n",
      "Total params: 1,199,882\n",
      "Trainable params: 1,199,882\n",
      "Non-trainable params: 0\n",
      "_________________________________________________________________\n"
     ]
    }
   ],
   "source": [
    "model.compile(loss=keras.losses.categorical_crossentropy,\n",
    "              optimizer=keras.optimizers.Adadelta(),\n",
    "              metrics=['accuracy'])\n",
    "model.summary()"
   ]
  },
  {
   "cell_type": "code",
   "execution_count": 49,
   "metadata": {},
   "outputs": [],
   "source": [
    "def extend_channel(data):\n",
    "    if K.image_data_format() == 'channels_first':\n",
    "        data = data.reshape(data.shape[0], 1, 28, 28)\n",
    "    else:\n",
    "        data = data.reshape(data.shape[0], 28, 28, 1)\n",
    "        \n",
    "    return data\n",
    "\n",
    "x_train = extend_channel(x_train)\n",
    "x_test = extend_channel(x_test)\n",
    "\n",
    "input_shape = x_train.shape[1:]"
   ]
  },
  {
   "cell_type": "code",
   "execution_count": 50,
   "metadata": {},
   "outputs": [],
   "source": [
    "y_train2 = keras.utils.to_categorical(y_train, num_classes)\n",
    "y_test2 = keras.utils.to_categorical(y_test, num_classes)\n",
    "\n",
    "x_train = extend_channel(x_train)"
   ]
  },
  {
   "cell_type": "code",
   "execution_count": 51,
   "metadata": {
    "scrolled": false
   },
   "outputs": [
    {
     "name": "stdout",
     "output_type": "stream",
     "text": [
      "Train on 4000 samples, validate on 1000 samples\n",
      "Epoch 1/20\n",
      "4000/4000 [==============================] - 2s 479us/step - loss: 8.0935 - accuracy: 0.4597 - val_loss: 0.7380 - val_accuracy: 0.7370\n",
      "Epoch 2/20\n",
      "4000/4000 [==============================] - 2s 409us/step - loss: 1.0567 - accuracy: 0.6260 - val_loss: 0.6301 - val_accuracy: 0.7630\n",
      "Epoch 3/20\n",
      "4000/4000 [==============================] - 2s 409us/step - loss: 0.8900 - accuracy: 0.6942 - val_loss: 0.5925 - val_accuracy: 0.7620\n",
      "Epoch 4/20\n",
      "4000/4000 [==============================] - 2s 415us/step - loss: 0.7745 - accuracy: 0.7293 - val_loss: 0.6459 - val_accuracy: 0.7810\n",
      "Epoch 5/20\n",
      "4000/4000 [==============================] - 2s 405us/step - loss: 0.6879 - accuracy: 0.7452 - val_loss: 0.4814 - val_accuracy: 0.8240\n",
      "Epoch 6/20\n",
      "4000/4000 [==============================] - 2s 404us/step - loss: 0.6048 - accuracy: 0.7805 - val_loss: 0.4222 - val_accuracy: 0.8460\n",
      "Epoch 7/20\n",
      "4000/4000 [==============================] - 2s 401us/step - loss: 0.5298 - accuracy: 0.8018 - val_loss: 0.4515 - val_accuracy: 0.8360\n",
      "Epoch 8/20\n",
      "4000/4000 [==============================] - 2s 406us/step - loss: 0.4595 - accuracy: 0.8305 - val_loss: 0.4277 - val_accuracy: 0.8370\n",
      "Epoch 9/20\n",
      "4000/4000 [==============================] - 2s 410us/step - loss: 0.4029 - accuracy: 0.8503 - val_loss: 0.4186 - val_accuracy: 0.8500\n",
      "Epoch 10/20\n",
      "4000/4000 [==============================] - 2s 412us/step - loss: 0.3819 - accuracy: 0.8635 - val_loss: 0.4555 - val_accuracy: 0.8430\n",
      "Epoch 11/20\n",
      "4000/4000 [==============================] - 2s 415us/step - loss: 0.3273 - accuracy: 0.8755 - val_loss: 0.4507 - val_accuracy: 0.8580\n",
      "Epoch 12/20\n",
      "4000/4000 [==============================] - 2s 412us/step - loss: 0.2852 - accuracy: 0.8915 - val_loss: 0.5047 - val_accuracy: 0.8380\n",
      "Epoch 13/20\n",
      "4000/4000 [==============================] - 2s 407us/step - loss: 0.2755 - accuracy: 0.8965 - val_loss: 0.3965 - val_accuracy: 0.8700\n",
      "Epoch 14/20\n",
      "4000/4000 [==============================] - 2s 416us/step - loss: 0.2447 - accuracy: 0.9097 - val_loss: 0.4193 - val_accuracy: 0.8710\n",
      "Epoch 15/20\n",
      "4000/4000 [==============================] - 2s 416us/step - loss: 0.2286 - accuracy: 0.9175 - val_loss: 0.4169 - val_accuracy: 0.8690\n",
      "Epoch 16/20\n",
      "4000/4000 [==============================] - 2s 409us/step - loss: 0.1975 - accuracy: 0.9227 - val_loss: 0.4294 - val_accuracy: 0.8750\n",
      "Epoch 17/20\n",
      "4000/4000 [==============================] - 2s 421us/step - loss: 0.2015 - accuracy: 0.9235 - val_loss: 0.5972 - val_accuracy: 0.8490\n",
      "Epoch 18/20\n",
      "4000/4000 [==============================] - 2s 429us/step - loss: 0.1671 - accuracy: 0.9337 - val_loss: 0.4312 - val_accuracy: 0.8830\n",
      "Epoch 19/20\n",
      "4000/4000 [==============================] - 2s 416us/step - loss: 0.1468 - accuracy: 0.9445 - val_loss: 0.4928 - val_accuracy: 0.8670\n",
      "Epoch 20/20\n",
      "4000/4000 [==============================] - 2s 421us/step - loss: 0.1563 - accuracy: 0.9413 - val_loss: 0.4158 - val_accuracy: 0.8840\n"
     ]
    }
   ],
   "source": [
    "#model.fit()\n",
    "x_train = extend_channel(x_train)\n",
    "result = model.fit(x_train, y_train2,\n",
    "          batch_size=batch_size,\n",
    "          epochs=epochs,\n",
    "          verbose=1,\n",
    "          validation_data=(x_test, y_test2))"
   ]
  },
  {
   "cell_type": "code",
   "execution_count": 52,
   "metadata": {
    "scrolled": false
   },
   "outputs": [
    {
     "data": {
      "image/png": "[encoded data removed]",
      "text/plain": [
       "<Figure size 576x576 with 2 Axes>"
      ]
     },
     "metadata": {
      "needs_background": "light"
     },
     "output_type": "display_data"
    }
   ],
   "source": [
    "epochs_range = range(1,21)\n",
    "acc = result.history['accuracy']\n",
    "val_acc = result.history['val_accuracy']\n",
    "loss = result.history['loss']\n",
    "val_loss = result.history['val_loss']\n",
    "\n",
    "plt.figure(figsize=(8, 8))\n",
    "plt.subplot(1, 2, 1)\n",
    "plt.plot(epochs_range, acc, label='Training Accuracy')\n",
    "plt.plot(epochs_range, val_acc, label='Validation Accuracy')\n",
    "plt.legend(loc='lower right')\n",
    "plt.title('Training and Validation Accuracy')\n",
    "\n",
    "plt.subplot(1, 2, 2)\n",
    "plt.plot(epochs_range, loss, label='Training Loss')\n",
    "plt.plot(epochs_range, val_loss, label='Validation Loss')\n",
    "plt.legend(loc='upper right')\n",
    "plt.title('Training and Validation Loss')\n",
    "plt.show()"
   ]
  },
  {
   "cell_type": "code",
   "execution_count": 53,
   "metadata": {
    "scrolled": false
   },
   "outputs": [
    {
     "name": "stdout",
     "output_type": "stream",
     "text": [
      "4000/4000 [==============================] - 1s 192us/step\n",
      "1000/1000 [==============================] - 0s 198us/step\n",
      "train Precision: 0.9898%\n",
      "Test Precision: 0.8840%\n"
     ]
    }
   ],
   "source": [
    "score = model.evaluate(x_train, y_train2, verbose=1)\n",
    "score1 = model.evaluate(x_test, y_test2, verbose=1)\n",
    "\n",
    "print('train Precision: {:5.4f}%'.format(score[1]))\n",
    "print('Test Precision: {:5.4f}%'.format(score1[1]))"
   ]
  },
  {
   "cell_type": "code",
   "execution_count": 54,
   "metadata": {},
   "outputs": [],
   "source": [
    "storage.append(score[1])\n",
    "storage.append(score1[1])"
   ]
  },
  {
   "cell_type": "markdown",
   "metadata": {},
   "source": [
    "## Summary"
   ]
  },
  {
   "cell_type": "markdown",
   "metadata": {},
   "source": [
    "From this project, we use MLP, logistic regression, SVM, random forest tree and cNN to do clafficiation"
   ]
  },
  {
   "cell_type": "code",
   "execution_count": 56,
   "metadata": {},
   "outputs": [
    {
     "data": {
      "text/html": [
       "<div>\n",
       "<style scoped>\n",
       "    .dataframe tbody tr th:only-of-type {\n",
       "        vertical-align: middle;\n",
       "    }\n",
       "\n",
       "    .dataframe tbody tr th {\n",
       "        vertical-align: top;\n",
       "    }\n",
       "\n",
       "    .dataframe thead th {\n",
       "        text-align: right;\n",
       "    }\n",
       "</style>\n",
       "<table border=\"1\" class=\"dataframe\">\n",
       "  <thead>\n",
       "    <tr style=\"text-align: right;\">\n",
       "      <th></th>\n",
       "      <th>MLP</th>\n",
       "      <th>Logistic regression</th>\n",
       "      <th>SVM</th>\n",
       "      <th>Random Forest</th>\n",
       "      <th>cNN</th>\n",
       "    </tr>\n",
       "  </thead>\n",
       "  <tbody>\n",
       "    <tr>\n",
       "      <th>Train Precision</th>\n",
       "      <td>87.075</td>\n",
       "      <td>92.9</td>\n",
       "      <td>0.891</td>\n",
       "      <td>0.84525</td>\n",
       "      <td>0.98975</td>\n",
       "    </tr>\n",
       "    <tr>\n",
       "      <th>Test Precision</th>\n",
       "      <td>80.900</td>\n",
       "      <td>83.4</td>\n",
       "      <td>0.833</td>\n",
       "      <td>0.84375</td>\n",
       "      <td>0.88400</td>\n",
       "    </tr>\n",
       "  </tbody>\n",
       "</table>\n",
       "</div>"
      ],
      "text/plain": [
       "                    MLP  Logistic regression    SVM  Random Forest      cNN\n",
       "Train Precision  87.075                 92.9  0.891        0.84525  0.98975\n",
       "Test Precision   80.900                 83.4  0.833        0.84375  0.88400"
      ]
     },
     "execution_count": 56,
     "metadata": {},
     "output_type": "execute_result"
    }
   ],
   "source": [
    "import pandas as pd\n",
    "tmp={'MLP':[storage[0],storage[1]],\n",
    "     'Logistic regression':[storage[2],storage[3]],\n",
    "     'SVM':[storage[4],storage[5]],\n",
    "     'Random Forest':[storage[6],storage[7]],\n",
    "     'cNN':[storage[8],storage[9]]}\n",
    "table=pd.DataFrame(tmp,columns=['MLP','Logistic regression','SVM','Random Forest','cNN'],\n",
    "                  index=['Train Precision','Test Precision'])\n",
    "table"
   ]
  },
  {
   "cell_type": "markdown",
   "metadata": {},
   "source": [
    "The test precision is not very high  \n",
    "I think one reason is maybe the training set is a little small, the original data set has 60000 data, but I only take 5000 data to train it.  the second reason might be some clothes type is similar.  \n",
    "In this five model, the cNN proformance is the best, the test precision could be 0.868, and the other four classification is nearly 0.83. "
   ]
  },
  {
   "cell_type": "markdown",
   "metadata": {},
   "source": [
    "## Training full dataset in CNN model"
   ]
  },
  {
   "cell_type": "code",
   "execution_count": 34,
   "metadata": {},
   "outputs": [],
   "source": [
    "newdata = pd.read_csv('fashion-mnist_train.csv')"
   ]
  },
  {
   "cell_type": "code",
   "execution_count": 35,
   "metadata": {},
   "outputs": [],
   "source": [
    "# Split data set on training and test sets with proportions 80/20.\n",
    "# Function sample() returns a random sample of items.\n",
    "pd_train_data = newdata.sample(frac=0.8)\n",
    "pd_test_data = newdata.drop(pd_train_data.index)\n",
    "\n",
    "# Convert training and testing data from Pandas to NumPy format.\n",
    "train_data = pd_train_data.values\n",
    "test_data = pd_test_data.values\n",
    "\n",
    "# Extract training/test labels and features.\n",
    "\n",
    "x_train = train_data[:, 1:]\n",
    "y_train = train_data[:, [0]]\n",
    "\n",
    "x_test = test_data[:, 1:]\n",
    "y_test = test_data[:, [0]]"
   ]
  },
  {
   "cell_type": "code",
   "execution_count": 36,
   "metadata": {},
   "outputs": [],
   "source": [
    "def extend_channel(data):\n",
    "    if K.image_data_format() == 'channels_first':\n",
    "        data = data.reshape(data.shape[0], 1, 28, 28)\n",
    "    else:\n",
    "        data = data.reshape(data.shape[0], 28, 28, 1)\n",
    "        \n",
    "    return data\n",
    "\n",
    "x_train = extend_channel(x_train)\n",
    "x_test = extend_channel(x_test)\n",
    "\n",
    "input_shape = x_train.shape[1:]\n",
    "num_classes = 10\n",
    "batch_size = 128\n",
    "epochs = 20"
   ]
  },
  {
   "cell_type": "code",
   "execution_count": 37,
   "metadata": {},
   "outputs": [
    {
     "name": "stdout",
     "output_type": "stream",
     "text": [
      "Train on 48000 samples, validate on 12000 samples\n",
      "Epoch 1/20\n",
      "48000/48000 [==============================] - 20s 413us/step - loss: 1.4090 - accuracy: 0.7371 - val_loss: 0.4026 - val_accuracy: 0.8510\n",
      "Epoch 2/20\n",
      "48000/48000 [==============================] - 20s 413us/step - loss: 0.4239 - accuracy: 0.8508 - val_loss: 0.3377 - val_accuracy: 0.8844\n",
      "Epoch 3/20\n",
      "48000/48000 [==============================] - 20s 416us/step - loss: 0.3516 - accuracy: 0.8777 - val_loss: 0.2997 - val_accuracy: 0.8919\n",
      "Epoch 4/20\n",
      "48000/48000 [==============================] - 20s 421us/step - loss: 0.3108 - accuracy: 0.8913 - val_loss: 0.2733 - val_accuracy: 0.9042\n",
      "Epoch 5/20\n",
      "48000/48000 [==============================] - 20s 420us/step - loss: 0.2786 - accuracy: 0.9001 - val_loss: 0.2932 - val_accuracy: 0.9048\n",
      "Epoch 6/20\n",
      "48000/48000 [==============================] - 20s 416us/step - loss: 0.2602 - accuracy: 0.9079 - val_loss: 0.2661 - val_accuracy: 0.9105\n",
      "Epoch 7/20\n",
      "48000/48000 [==============================] - 20s 414us/step - loss: 0.2454 - accuracy: 0.9132 - val_loss: 0.2789 - val_accuracy: 0.9107\n",
      "Epoch 8/20\n",
      "48000/48000 [==============================] - 20s 413us/step - loss: 0.2354 - accuracy: 0.9160 - val_loss: 0.2749 - val_accuracy: 0.9157\n",
      "Epoch 9/20\n",
      "48000/48000 [==============================] - 20s 413us/step - loss: 0.2215 - accuracy: 0.9212 - val_loss: 0.2791 - val_accuracy: 0.9141\n",
      "Epoch 10/20\n",
      "48000/48000 [==============================] - 20s 413us/step - loss: 0.2147 - accuracy: 0.9244 - val_loss: 0.2716 - val_accuracy: 0.9180\n",
      "Epoch 11/20\n",
      "48000/48000 [==============================] - 20s 414us/step - loss: 0.2045 - accuracy: 0.9290 - val_loss: 0.2707 - val_accuracy: 0.9154\n",
      "Epoch 12/20\n",
      "48000/48000 [==============================] - 20s 416us/step - loss: 0.1964 - accuracy: 0.9299 - val_loss: 0.2690 - val_accuracy: 0.9188\n",
      "Epoch 13/20\n",
      "48000/48000 [==============================] - 20s 418us/step - loss: 0.1959 - accuracy: 0.9316 - val_loss: 0.3005 - val_accuracy: 0.9193\n",
      "Epoch 14/20\n",
      "48000/48000 [==============================] - 20s 416us/step - loss: 0.1876 - accuracy: 0.9340 - val_loss: 0.2929 - val_accuracy: 0.9221\n",
      "Epoch 15/20\n",
      "48000/48000 [==============================] - 20s 417us/step - loss: 0.1780 - accuracy: 0.9380 - val_loss: 0.2663 - val_accuracy: 0.9168\n",
      "Epoch 16/20\n",
      "48000/48000 [==============================] - 20s 419us/step - loss: 0.1779 - accuracy: 0.9377 - val_loss: 0.2756 - val_accuracy: 0.9168\n",
      "Epoch 17/20\n",
      "48000/48000 [==============================] - 20s 420us/step - loss: 0.1743 - accuracy: 0.9381 - val_loss: 0.2924 - val_accuracy: 0.9131\n",
      "Epoch 18/20\n",
      "48000/48000 [==============================] - 20s 419us/step - loss: 0.1743 - accuracy: 0.9403 - val_loss: 0.2773 - val_accuracy: 0.9144\n",
      "Epoch 19/20\n",
      "48000/48000 [==============================] - 20s 419us/step - loss: 0.1665 - accuracy: 0.9418 - val_loss: 0.2880 - val_accuracy: 0.9089\n",
      "Epoch 20/20\n",
      "48000/48000 [==============================] - 20s 422us/step - loss: 0.1673 - accuracy: 0.9411 - val_loss: 0.3047 - val_accuracy: 0.9196\n",
      "48000/48000 [==============================] - 9s 196us/step\n",
      "12000/12000 [==============================] - 2s 193us/step\n",
      "train Precision: 0.9731%\n",
      "Test Precision: 0.9196%\n"
     ]
    }
   ],
   "source": [
    "model = Sequential()\n",
    "model.add(Conv2D(32, kernel_size=(3, 3),\n",
    "                 activation='relu',\n",
    "                 input_shape=(28,28,1)))\n",
    "model.add(Conv2D(64, (3, 3), activation='relu'))\n",
    "model.add(MaxPooling2D(pool_size=(2, 2)))\n",
    "model.add(Dropout(0.25))\n",
    "model.add(Flatten())\n",
    "model.add(Dense(128, activation='relu'))\n",
    "model.add(Dropout(0.5))\n",
    "model.add(Dense(10, activation='softmax'))\n",
    "\n",
    "model.compile(loss=keras.losses.categorical_crossentropy,\n",
    "              optimizer=keras.optimizers.Adadelta(),\n",
    "              metrics=['accuracy'])\n",
    "y_train2 = keras.utils.to_categorical(y_train, num_classes)\n",
    "y_test2 = keras.utils.to_categorical(y_test, num_classes)\n",
    "\n",
    "x_train = extend_channel(x_train)\n",
    "result = model.fit(x_train, y_train2,\n",
    "          batch_size=batch_size,\n",
    "          epochs=epochs,\n",
    "          verbose=1,\n",
    "          validation_data=(x_test, y_test2))\n",
    "\n",
    "score = model.evaluate(x_train, y_train2, verbose=1)\n",
    "score1 = model.evaluate(x_test, y_test2, verbose=1)\n",
    "\n",
    "print('train Precision: {:5.4f}%'.format(score[1]))\n",
    "print('Test Precision: {:5.4f}%'.format(score1[1]))"
   ]
  },
  {
   "cell_type": "code",
   "execution_count": null,
   "metadata": {},
   "outputs": [],
   "source": []
  }
 ],
 "metadata": {
  "kernelspec": {
   "display_name": "Python: MlearnGPU",
   "language": "python",
   "name": "mlearngpu"
  },
  "language_info": {
   "codemirror_mode": {
    "name": "ipython",
    "version": 3
   },
   "file_extension": ".py",
   "mimetype": "text/x-python",
   "name": "python",
   "nbconvert_exporter": "python",
   "pygments_lexer": "ipython3",
   "version": "3.6.5"
  }
 },
 "nbformat": 4,
 "nbformat_minor": 2
}
